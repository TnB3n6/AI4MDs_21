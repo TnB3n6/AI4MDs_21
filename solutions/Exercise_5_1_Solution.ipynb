{
  "nbformat": 4,
  "nbformat_minor": 0,
  "metadata": {
    "accelerator": "GPU",
    "colab": {
      "name": "Exercise 5.1 Solution",
      "provenance": [],
      "collapsed_sections": [],
      "toc_visible": true
    },
    "kernelspec": {
      "display_name": "Python 3",
      "language": "python",
      "name": "python3"
    },
    "language_info": {
      "codemirror_mode": {
        "name": "ipython",
        "version": 3
      },
      "file_extension": ".py",
      "mimetype": "text/x-python",
      "name": "python",
      "nbconvert_exporter": "python",
      "pygments_lexer": "ipython3",
      "version": "3.7.5-final"
    },
    "toc": {
      "base_numbering": 1,
      "nav_menu": {},
      "number_sections": true,
      "sideBar": true,
      "skip_h1_title": false,
      "title_cell": "Table of Contents",
      "title_sidebar": "Contents",
      "toc_cell": false,
      "toc_position": {},
      "toc_section_display": true,
      "toc_window_display": false
    }
  },
  "cells": [
    {
      "cell_type": "markdown",
      "metadata": {
        "collapsed": false,
        "id": "oA0h5n48ASxA"
      },
      "source": [
        "# Introduction to classes (object oriented programming)\n",
        "\n",
        "Object oriented programming is a programming paradigm revolving around the idea of modelling data and its behavior with objects inspired by an abstraction of reality.\n",
        "More information on Pythons philosophy on objects here: https://docs.python.org/3/reference/datamodel.html\n",
        "\n",
        "An object is an instance of class. A class defines the attributes and actions of an object. There can be many instances of the same class.\n",
        "\n",
        "Classes provide a means of bundling data and functionality together. Creating a new class creates a new type of object, allowing new instances of that type to be made. Each class instance can have attributes attached to it for maintaining its state. Class instances can also have methods (defined by its class) for modifying its state.\n",
        "\n",
        "Classes can be inherited e.g. a dog gets all the attributes and actions of a mammal, but additionally has dog specific attributes and actions: all mammals can breathe - only a dog can bark.\n",
        "\n",
        "The **self** parameter is a reference to the current instance of the class, and is used to access variables that belongs to the class."
      ]
    },
    {
      "cell_type": "code",
      "metadata": {
        "pycharm": {
          "name": "#%%\n"
        },
        "id": "mohHqvokASxB"
      },
      "source": [
        "# definte the class for a person\n",
        "class Person:\n",
        "    '''\n",
        "    This class represent a Person.\n",
        "    : attribute first_name: First name of the person\n",
        "    : attribute last_name: Last name of the person    \n",
        "    '''\n",
        "    # __ indicates internal functions, __method__ indicates special python method\n",
        "    def __init__(self, first_name, last_name):\n",
        "        '''\n",
        "        This function is always called when an instance of a class is created(Constructor).\n",
        "        The __init__() function is used to assign values to object properties or\n",
        "        other operations that are necessary to do when the object is being created.\n",
        "        \"self\" always needs to be set as the first argument in order for the methods to be able to access class attributes (like first and lasts name)\n",
        "        In this example first and last name are given to the constructor to create an instance.\n",
        "        see https://docs.python.org/3/reference/datamodel.html#object.__init__\n",
        "        '''\n",
        "        # within classes attributes are defined with the pattern self.attribute.\n",
        "        # this way attributes cann be accessed within the class definition by self.attribute or in the instance of a class (object) like object.attribute\n",
        "        self.first_name = first_name\n",
        "        self.last_name = last_name    \n"
      ],
      "execution_count": null,
      "outputs": []
    },
    {
      "cell_type": "markdown",
      "metadata": {
        "collapsed": false,
        "pycharm": {
          "name": "#%% md\n"
        },
        "id": "VHhuOWSPASxC"
      },
      "source": [
        "Create an instance of a person"
      ]
    },
    {
      "cell_type": "code",
      "metadata": {
        "pycharm": {
          "name": "#%%\n"
        },
        "id": "QcRylaurASxC"
      },
      "source": [
        "person1 = Person(\"Max\", \"Mustermann\")"
      ],
      "execution_count": null,
      "outputs": []
    },
    {
      "cell_type": "markdown",
      "metadata": {
        "collapsed": false,
        "id": "VfgqwO1aASxC"
      },
      "source": [
        "Get the type of the new object"
      ]
    },
    {
      "cell_type": "code",
      "metadata": {
        "pycharm": {
          "name": "#%%\n"
        },
        "id": "b50d2R6cASxC"
      },
      "source": [
        "type(person1)"
      ],
      "execution_count": null,
      "outputs": []
    },
    {
      "cell_type": "markdown",
      "metadata": {
        "collapsed": false,
        "pycharm": {
          "name": "#%% md\n"
        },
        "id": "_1S1XflZASxC"
      },
      "source": [
        "Print the first and last name of the person"
      ]
    },
    {
      "cell_type": "code",
      "metadata": {
        "pycharm": {
          "name": "#%%\n"
        },
        "id": "fqU4nni5ASxC"
      },
      "source": [
        "print(person1.first_name, person1.last_name)"
      ],
      "execution_count": null,
      "outputs": []
    },
    {
      "cell_type": "markdown",
      "metadata": {
        "collapsed": false,
        "id": "HvT1NEJVASxC"
      },
      "source": [
        "Add age as an attribute"
      ]
    },
    {
      "cell_type": "code",
      "metadata": {
        "pycharm": {
          "name": "#%%\n"
        },
        "id": "w8EhEYEAASxC"
      },
      "source": [
        "# definte the class for a person\n",
        "class Person:\n",
        "    '''\n",
        "    This class represent a Person.\n",
        "    : attribute first_name: First name of the person\n",
        "    : attribute last_name: Last name of the person    \n",
        "    '''\n",
        "    # __ indicates internal functions, __method__ indicates special python method\n",
        "    def __init__(self, first_name, last_name, age=None):\n",
        "        '''\n",
        "        This function is always called when an instance of a class is created(Constructor).\n",
        "        The __init__() function is used to assign values to object properties or\n",
        "        other operations that are necessary to do when the object is being created.\n",
        "        \"self\" always needs to be set as the first argument in order for the methods to be able to access class attributes (like first and lasts name)\n",
        "        In this example first and last name are given to the constructor to create an instance.\n",
        "        see https://docs.python.org/3/reference/datamodel.html#object.__init__\n",
        "        '''\n",
        "        # within classes attributes are defined with the pattern self.attribute.\n",
        "        # this way attributes cann be accessed within the class definition by self.attribute or in the instance of a class (object) like object.attribute\n",
        "        self.first_name = first_name\n",
        "        self.last_name = last_name    \n",
        "        self.age = age"
      ],
      "execution_count": null,
      "outputs": []
    },
    {
      "cell_type": "markdown",
      "metadata": {
        "collapsed": false,
        "pycharm": {
          "name": "#%% md\n"
        },
        "id": "uh_tc1TdASxC"
      },
      "source": [
        "Print the age of our existing person"
      ]
    },
    {
      "cell_type": "code",
      "metadata": {
        "pycharm": {
          "name": "#%%\n"
        },
        "id": "jQxIwwnOASxC"
      },
      "source": [
        "print(person1.age)"
      ],
      "execution_count": null,
      "outputs": []
    },
    {
      "cell_type": "markdown",
      "metadata": {
        "collapsed": false,
        "id": "gEHf19MWASxC"
      },
      "source": [
        "Create a new instance of a person and print the age"
      ]
    },
    {
      "cell_type": "code",
      "metadata": {
        "pycharm": {
          "name": "#%%\n"
        },
        "id": "biOfGBzZASxC"
      },
      "source": [
        "person2 = Person('Maria', 'Mustermann', 25)\n",
        "print(person2.age)"
      ],
      "execution_count": null,
      "outputs": []
    },
    {
      "cell_type": "markdown",
      "metadata": {
        "collapsed": false,
        "pycharm": {
          "name": "#%% md\n"
        },
        "id": "qh9FAFy9ASxC"
      },
      "source": [
        "Add method 'introduce' that prints name and age of the person"
      ]
    },
    {
      "cell_type": "code",
      "metadata": {
        "pycharm": {
          "name": "#%%\n"
        },
        "id": "pOgMyRzbASxC"
      },
      "source": [
        "# definte the class for a person\n",
        "class Person:\n",
        "    '''\n",
        "    This class represent a Person.\n",
        "    : attribute first_name: First name of the person\n",
        "    : attribute last_name: Last name of the person    \n",
        "    '''\n",
        "    # __ indicates internal functions, __method__ indicates special python method\n",
        "    def __init__(self, first_name, last_name, age=None):\n",
        "        '''\n",
        "        This function is always called when an instance of a class is created(Constructor).\n",
        "        The __init__() function is used to assign values to object properties or\n",
        "        other operations that are necessary to do when the object is being created.\n",
        "        \"self\" always needs to be set as the first argument in order for the methods to be able to access class attributes (like first and lasts name)\n",
        "        In this example first and last name are given to the constructor to create an instance.\n",
        "        see https://docs.python.org/3/reference/datamodel.html#object.__init__\n",
        "        '''\n",
        "        # within classes attributes are defined with the pattern self.attribute.\n",
        "        # this way attributes cann be accessed within the class definition by self.attribute or in the instance of a class (object) like object.attribute\n",
        "        self.first_name = first_name\n",
        "        self.last_name = last_name    \n",
        "        self.age = age\n",
        "    \n",
        "    def introduce(self):\n",
        "      print(f'Hi, my name is {self.first_name} {self.last_name} and I am {self.age} years old.')"
      ],
      "execution_count": null,
      "outputs": []
    },
    {
      "cell_type": "markdown",
      "metadata": {
        "collapsed": false,
        "id": "Aa-2fybuASxC"
      },
      "source": [
        "Call method 'introduce' of a new person"
      ]
    },
    {
      "cell_type": "code",
      "metadata": {
        "pycharm": {
          "name": "#%%\n"
        },
        "id": "_uVTB-liASxD"
      },
      "source": [
        "person3 = Person('Fritz', 'Fischer', 5)\n",
        "person3.introduce()"
      ],
      "execution_count": null,
      "outputs": []
    },
    {
      "cell_type": "markdown",
      "metadata": {
        "collapsed": false,
        "pycharm": {
          "name": "#%% md\n"
        },
        "id": "qadDiP8oASxD"
      },
      "source": [
        "Change the last name of the person"
      ]
    },
    {
      "cell_type": "code",
      "metadata": {
        "pycharm": {
          "name": "#%%\n"
        },
        "id": "4wt7XHGPASxD"
      },
      "source": [
        "person3.first_name = \"Frida\""
      ],
      "execution_count": null,
      "outputs": []
    },
    {
      "cell_type": "markdown",
      "metadata": {
        "collapsed": false,
        "id": "ta5ZHNhQASxD"
      },
      "source": [
        "Call method 'introduce' of the same person"
      ]
    },
    {
      "cell_type": "code",
      "metadata": {
        "pycharm": {
          "name": "#%%\n"
        },
        "id": "mPnoMvCnASxD"
      },
      "source": [
        "person3.introduce()"
      ],
      "execution_count": null,
      "outputs": []
    },
    {
      "cell_type": "markdown",
      "metadata": {
        "collapsed": false,
        "pycharm": {
          "name": "#%% md\n"
        },
        "id": "FEZVGR_dASxD"
      },
      "source": [
        "Define a class patient that inherits all the attributes from person"
      ]
    },
    {
      "cell_type": "code",
      "metadata": {
        "pycharm": {
          "name": "#%%\n"
        },
        "id": "WVAZfgO8ASxD"
      },
      "source": [
        "class Patient(Person):\n",
        "    '''\n",
        "    This class is inherited from Person class. It represents Patients.\n",
        "    : attribute patient_id: ID number of patient\n",
        "    '''\n",
        "    def __init__(self, first_name, last_name, age=None, pid=None):\n",
        "        '''\n",
        "        Constructor of Patient class.\n",
        "        We also call the constructor of the class Person from which it was inherited from.\n",
        "        '''\n",
        "        super().__init__(first_name, last_name, age)\n",
        "        self.patient_id = pid\n",
        "      \n",
        "    def __str__(self):\n",
        "        '''\n",
        "        This function is called when we want to print the details of an object of the class\n",
        "        '''\n",
        "        return (\"Name: {} {} \\n Patient ID: {} \\n\".format(self.first_name, self.last_name, self.patient_id))"
      ],
      "execution_count": null,
      "outputs": []
    },
    {
      "cell_type": "markdown",
      "metadata": {
        "collapsed": false,
        "id": "mMMBv8g5ASxD"
      },
      "source": [
        "Create an instance of a patient"
      ]
    },
    {
      "cell_type": "code",
      "metadata": {
        "pycharm": {
          "name": "#%%\n"
        },
        "id": "EoENlVK6ASxD"
      },
      "source": [
        "patient1 = Patient('Max', 'Mustermann', 30, 1234)"
      ],
      "execution_count": null,
      "outputs": []
    },
    {
      "cell_type": "markdown",
      "metadata": {
        "collapsed": false,
        "id": "EU8m5klTASxD"
      },
      "source": [
        "Call the introduction method of the patient"
      ]
    },
    {
      "cell_type": "code",
      "metadata": {
        "pycharm": {
          "name": "#%%\n"
        },
        "id": "q6qqOFTRASxD"
      },
      "source": [
        "patient1.introduce()"
      ],
      "execution_count": null,
      "outputs": []
    },
    {
      "cell_type": "markdown",
      "metadata": {
        "collapsed": false,
        "id": "eoCzZ1YLASxD"
      },
      "source": [
        "Get the type of patient"
      ]
    },
    {
      "cell_type": "code",
      "metadata": {
        "pycharm": {
          "name": "#%%\n"
        },
        "id": "czaADGfgASxD"
      },
      "source": [
        "type(patient1)"
      ],
      "execution_count": null,
      "outputs": []
    },
    {
      "cell_type": "markdown",
      "metadata": {
        "collapsed": false,
        "id": "PR-zcDXFASxD"
      },
      "source": [
        "Print the patient"
      ]
    },
    {
      "cell_type": "code",
      "metadata": {
        "pycharm": {
          "name": "#%%\n"
        },
        "id": "HYxDw2RWASxD"
      },
      "source": [
        "print(patient1)"
      ],
      "execution_count": null,
      "outputs": []
    },
    {
      "cell_type": "markdown",
      "metadata": {
        "collapsed": false,
        "id": "mZdMkg4CASxD"
      },
      "source": [
        "Now lets define a class waiting room that has a list of patients similar to a dataset"
      ]
    },
    {
      "cell_type": "code",
      "metadata": {
        "pycharm": {
          "name": "#%%\n"
        },
        "id": "JNXaK34HASxD"
      },
      "source": [
        "class WaitingRoom:\n",
        "    '''\n",
        "    This class represent a waiting room. We have list of patients waiting.\n",
        "    : attribute patient: a list of patients\n",
        "    '''\n",
        "    def __init__(self, patients=None):\n",
        "        '''\n",
        "        Constructor, expects a list of instances of class patient\n",
        "        '''\n",
        "        self.patients = patients\n",
        "    \n",
        "    def __getitem__(self, index=None):\n",
        "        '''\n",
        "        This function return a patient using the index. We can then iterate over the class instance  like a list.\n",
        "        see https://docs.python.org/3/reference/datamodel.html#object.__getitem__\n",
        "        '''\n",
        "        return self.patients[index]\n",
        "    \n",
        "    def __len__(self):\n",
        "        '''\n",
        "        Returns the number of patients in the room\n",
        "        see https://docs.python.org/3/reference/datamodel.html#object.__len__\n",
        "        '''\n",
        "        return len(self.patients)"
      ],
      "execution_count": null,
      "outputs": []
    },
    {
      "cell_type": "code",
      "metadata": {
        "pycharm": {
          "name": "#%%\n"
        },
        "id": "0mcBB1LvASxD"
      },
      "source": [
        "# We declare two patients\n",
        "patient_1 = Patient(\"Max\", \"Mustermann\", 30, 1234)\n",
        "patient_2 = Patient(\"Frida\", \"Froehlich\", 25, 1235)\n",
        "\n",
        "# Declare a list of patients and add the patients to this list\n",
        "patients = []\n",
        "patients.append(patient_1)\n",
        "patients.append(patient_2)\n",
        "\n",
        "# Add the patients to the waiting room\n",
        "\n",
        "waiting_room = WaitingRoom(patients)"
      ],
      "execution_count": null,
      "outputs": []
    },
    {
      "cell_type": "markdown",
      "metadata": {
        "collapsed": false,
        "id": "qWWTA9iuASxD"
      },
      "source": [
        "Let see how many people are there in the waiting room"
      ]
    },
    {
      "cell_type": "code",
      "metadata": {
        "pycharm": {
          "name": "#%%\n"
        },
        "id": "bJGisHdGASxD"
      },
      "source": [
        "len(waiting_room)"
      ],
      "execution_count": null,
      "outputs": []
    },
    {
      "cell_type": "markdown",
      "metadata": {
        "collapsed": false,
        "pycharm": {
          "name": "#%% md\n"
        },
        "id": "3gAkcgfaASxD"
      },
      "source": [
        "Access the first name of the first patient in the waiting room"
      ]
    },
    {
      "cell_type": "code",
      "metadata": {
        "pycharm": {
          "name": "#%%\n"
        },
        "id": "xh5GVfQzASxD"
      },
      "source": [
        "waiting_room[0].first_name"
      ],
      "execution_count": null,
      "outputs": []
    },
    {
      "cell_type": "markdown",
      "metadata": {
        "collapsed": false,
        "pycharm": {
          "name": "#%% md\n"
        },
        "id": "uUUF15KcASxD"
      },
      "source": [
        "Let is loop over the patients in the waiting room and print their details"
      ]
    },
    {
      "cell_type": "code",
      "metadata": {
        "id": "3H3gcCJwASxD"
      },
      "source": [
        "for p in waiting_room:\n",
        "    print(p)"
      ],
      "execution_count": null,
      "outputs": []
    },
    {
      "cell_type": "markdown",
      "metadata": {
        "collapsed": false,
        "id": "0VR98PFYASxD"
      },
      "source": [
        "# Homework"
      ]
    },
    {
      "cell_type": "code",
      "metadata": {
        "pycharm": {
          "name": "#%%\n"
        },
        "id": "eHM__uNjASxD"
      },
      "source": [
        "# add the following functions to the waiting room class above (you need to redefine the whole class again)\n",
        "class WaitingRoom:\n",
        "    '''\n",
        "    This class represent a waiting room. We have list of patients waiting.\n",
        "    : attribute patient: a list of patients\n",
        "    '''\n",
        "    def __init__(self, patients=None):\n",
        "        '''\n",
        "        Constructor, expects a list of instances of class patient\n",
        "        '''\n",
        "        self.patients = patients\n",
        "    \n",
        "    def __getitem__(self, index=None):\n",
        "        '''\n",
        "        This function return a patient using the index. We can then iterate over the class instance  like a list.\n",
        "        see https://docs.python.org/3/reference/datamodel.html#object.__getitem__\n",
        "        '''\n",
        "        return self.patients[index]\n",
        "    \n",
        "    def __len__(self):\n",
        "        '''\n",
        "        Returns the number of patients in the room\n",
        "        see https://docs.python.org/3/reference/datamodel.html#object.__len__\n",
        "        '''\n",
        "        return len(self.patients)\n",
        "\n",
        "    def enter_room(self, patient=None):\n",
        "        \"\"\" adds a patient object to the list of patients \"\"\"\n",
        "        print(f\"Patient {patient.first_name} {patient.last_name} entered the waiting room.\")\n",
        "        self.patients.append(patient)\n",
        "\n",
        "    def leave_room(self, index=None):\n",
        "        \"\"\" removes a patient from the list of patients\n",
        "        hint: use list.pop([i]) https://docs.python.org/2/tutorial/datastructures.html\n",
        "        \"\"\"\n",
        "        pat = self.patients[index]\n",
        "        print(f\"Patient {pat.first_name} {pat.last_name} left the waiting room.\")\n",
        "        self.patients.pop(index)\n",
        "\n",
        "    def __str__(self):\n",
        "        info = 'List of patients currently in the waiting room:\\n'\n",
        "        for p in self.patients:\n",
        "          info += '\\n' + str(p)\n",
        "        return info"
      ],
      "execution_count": null,
      "outputs": []
    },
    {
      "cell_type": "code",
      "metadata": {
        "id": "HZWA3XAJASxD"
      },
      "source": [
        "# We declare two patients\n",
        "patient_1 = Patient(\"Max\", \"Mustermann\", 30, 12345)\n",
        "patient_2 = Patient(\"Frida\", \"Friedlich\", 25, 12346)\n",
        "\n",
        "# Declare a list of patients and add the patients to this list\n",
        "patients = []\n",
        "patients.append(patient_1)\n",
        "patients.append(patient_2)\n",
        "\n",
        "# Add the patients to the waiting room\n",
        "waiting_room = WaitingRoom(patients)\n",
        "\n",
        "# print patients in the waiting room\n",
        "print(waiting_room)"
      ],
      "execution_count": null,
      "outputs": []
    },
    {
      "cell_type": "code",
      "metadata": {
        "id": "mqJHg_UWASxD"
      },
      "source": [
        "# create a third patient\n",
        "patient_3 = Patient(\"Fridolin\", \"Friedlich\", 10, 12347)\n",
        "\n",
        "# patient 3 enters the waiting room\n",
        "waiting_room.enter_room(patient_3)"
      ],
      "execution_count": null,
      "outputs": []
    },
    {
      "cell_type": "code",
      "metadata": {
        "id": "HlKyB6p5ASxD"
      },
      "source": [
        "# print patients in the waiting room\n",
        "print(waiting_room)"
      ],
      "execution_count": null,
      "outputs": []
    },
    {
      "cell_type": "code",
      "metadata": {
        "id": "dFa-fPPgASxD"
      },
      "source": [
        "# patient 0 leaves the room\n",
        "waiting_room.leave_room(0)"
      ],
      "execution_count": null,
      "outputs": []
    },
    {
      "cell_type": "code",
      "metadata": {
        "id": "pR0TovsFASxD"
      },
      "source": [
        "# print patients in the waiting room\n",
        "print(waiting_room)"
      ],
      "execution_count": null,
      "outputs": []
    },
    {
      "cell_type": "code",
      "metadata": {
        "id": "B_aMyGmXASxD"
      },
      "source": [
        "# the last patient leave the waiting room\n",
        "waiting_room.leave_room(-1)"
      ],
      "execution_count": null,
      "outputs": []
    },
    {
      "cell_type": "code",
      "metadata": {
        "id": "NqPjN3hiASxD"
      },
      "source": [
        "# print patients in the waiting room\n",
        "print(waiting_room)"
      ],
      "execution_count": null,
      "outputs": []
    },
    {
      "cell_type": "code",
      "metadata": {
        "id": "IApBAPTYA_sP"
      },
      "source": [
        ""
      ],
      "execution_count": null,
      "outputs": []
    }
  ]
}