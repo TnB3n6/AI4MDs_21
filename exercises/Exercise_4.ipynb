{
  "nbformat": 4,
  "nbformat_minor": 0,
  "metadata": {
    "kernelspec": {
      "display_name": "Python 3",
      "language": "python",
      "name": "python3"
    },
    "language_info": {
      "codemirror_mode": {
        "name": "ipython",
        "version": 3
      },
      "file_extension": ".py",
      "mimetype": "text/x-python",
      "name": "python",
      "nbconvert_exporter": "python",
      "pygments_lexer": "ipython3",
      "version": "3.8.3"
    },
    "toc": {
      "base_numbering": 1,
      "nav_menu": {},
      "number_sections": true,
      "sideBar": true,
      "skip_h1_title": false,
      "title_cell": "Table of Contents",
      "title_sidebar": "Contents",
      "toc_cell": false,
      "toc_position": {},
      "toc_section_display": true,
      "toc_window_display": false
    },
    "colab": {
      "name": "Exercise_3.ipynb",
      "provenance": [],
      "toc_visible": true
    }
  },
  "cells": [
    {
      "cell_type": "code",
      "metadata": {
        "id": "pAeEQsUKLyvg"
      },
      "source": [
        "from scipy import ndimage\n",
        "import scipy\n",
        "import numpy as np\n",
        "import matplotlib.image as mpimg\n",
        "from matplotlib import pyplot as plt\n",
        "import matplotlib"
      ],
      "execution_count": null,
      "outputs": []
    },
    {
      "cell_type": "markdown",
      "metadata": {
        "id": "L1HoDPJlLyvm"
      },
      "source": [
        "## Loading an Image\n",
        "\n",
        "We will use the matplotlib.image library for loading the image from our computer.\n",
        "\n"
      ]
    },
    {
      "cell_type": "code",
      "metadata": {
        "id": "x9zeO037Lyvo"
      },
      "source": [
        "!wget https://raw.githubusercontent.com/IFL-CAMP/AI4MDs_21/main/images/Cancer.jpg"
      ],
      "execution_count": null,
      "outputs": []
    },
    {
      "cell_type": "code",
      "metadata": {
        "id": "vI5rGhOCLyvr"
      },
      "source": [
        "# Load an image\n",
        "!ls\n",
        "image = mpimg.imread(\"Cancer.jpg\")\n",
        "\n",
        "# Display the loaded image\n",
        "plt.figure(figsize=(10,10))\n",
        "plt.imshow(image)\n",
        "plt.show()"
      ],
      "execution_count": null,
      "outputs": []
    },
    {
      "cell_type": "markdown",
      "metadata": {
        "id": "CoMavFX4Lyvu"
      },
      "source": [
        "## Display the Red, Blue and Green channel separately\n",
        "\n",
        "As you saw in the lecture, a coloured image is made of red, green and blue channels. Let us view each channel separately for the loaded image."
      ]
    },
    {
      "cell_type": "code",
      "metadata": {
        "scrolled": true,
        "id": "Aw0OsQG2Lyvv"
      },
      "source": [
        "b = image.copy()\n",
        "# set green and red channels to 0\n",
        "b[:, :, 0] = 0\n",
        "b[:, :, 1] = 0\n",
        "\n",
        "# do for green\n",
        "g = image.copy()\n",
        "# task: set blue and red channels to 0\n",
        "\n",
        "# do for red\n",
        "r = image.copy()\n",
        "# task: set blue and green channels to 0\n",
        "\n",
        "\n",
        "# Red channel\n",
        "plt.figure(figsize=(10,10))\n",
        "# task: visualize only the red channel\n",
        "\n",
        "# Green channel\n",
        "plt.figure(figsize=(10,10))\n",
        "# task: visualize only the green channel\n",
        "\n",
        "# Blue channel\n",
        "plt.figure(figsize=(10,10))\n",
        "plt.imshow(b)\n",
        "plt.show()"
      ],
      "execution_count": null,
      "outputs": []
    },
    {
      "cell_type": "markdown",
      "metadata": {
        "id": "bjGy_2TvLyvy"
      },
      "source": [
        "Let us also see how the image would look in grayscale."
      ]
    },
    {
      "cell_type": "code",
      "metadata": {
        "id": "nP2DKaV7Lyvy"
      },
      "source": [
        "def rgb2gray(rgb):\n",
        "    return np.dot(rgb[...,:3], [0.2989, 0.5870, 0.1140])\n",
        "\n",
        "gray_cancer = rgb2gray(image)\n",
        "plt.figure(figsize=(10,10))\n",
        "plt.imshow(gray_cancer, cmap='gray')\n",
        "plt.show()"
      ],
      "execution_count": null,
      "outputs": []
    },
    {
      "cell_type": "markdown",
      "metadata": {
        "id": "BIhQh4eaLyv1"
      },
      "source": [
        "## Sobel Filter\n",
        "\n",
        "The Sobel filter is used in image processing and computer vision, particularly within edge detection algorithms where it creates an image emphasising edges."
      ]
    },
    {
      "cell_type": "code",
      "metadata": {
        "id": "ZQEc9X6qLyv1"
      },
      "source": [
        "# apply convolution operation\n",
        "def convolve_Img(img, fi):\n",
        "    return ndimage.correlate(img, fi, mode='constant', cval=1.0)\n",
        "\n",
        "# Horizontal edge detection\n",
        "def grad_x(img):\n",
        "    Kx = np.array([[-1, 0, 1],\n",
        "                   [-2, 0, 2],\n",
        "                   [-1, 0, 1]])\n",
        "    \n",
        "    return convolve_Img(img, Kx)\n",
        "\n",
        "# Vertical edge detection\n",
        "def grad_y(img):\n",
        "    Ky = np.array([[1, 2, 1],\n",
        "                   [0, 0, 0],\n",
        "                   [-1, -2, -1]])\n",
        "    \n",
        "    return convolve_Img(img, Ky)\n",
        "\n",
        "\n",
        "def sobel_filter(img):\n",
        "    img = rgb2gray(img)\n",
        "    img = np.array(img)\n",
        "    \n",
        "    # horizontal\n",
        "    x_img = grad_x(img)\n",
        "    \n",
        "    # vertical\n",
        "    y_img = grad_y(img)\n",
        "    \n",
        "    # combine\n",
        "    sob = np.hypot(x_img, y_img)\n",
        "    \n",
        "    return sob\n",
        "\n"
      ],
      "execution_count": null,
      "outputs": []
    },
    {
      "cell_type": "code",
      "metadata": {
        "id": "2-t1Zo_zLyv4"
      },
      "source": [
        "sobel_image = sobel_filter(image)\n",
        "plt.figure(figsize=(10,10))\n",
        "plt.imshow(sobel_image, cmap='gray')\n",
        "plt.show()"
      ],
      "execution_count": null,
      "outputs": []
    },
    {
      "cell_type": "markdown",
      "metadata": {
        "id": "iQapHN08Lyv7"
      },
      "source": [
        "## Blurring and De-blurring\n",
        "\n",
        "We can also use filters to blur and deblur an image."
      ]
    },
    {
      "cell_type": "code",
      "metadata": {
        "id": "u0F49ohzLyv7"
      },
      "source": [
        "# Blurring Image\n",
        "\n",
        "# write the blur filter\n",
        "blur_filter = \n",
        "\n",
        "def blurring(image, degree=3):\n",
        "    '''\n",
        "    image: input image\n",
        "    degree: how much blurring you want / Hint: repeat operation degree times\n",
        "    '''\n",
        "    # some preprocessing\n",
        "    image = rgb2gray(image)\n",
        "    image = np.array(image)\n",
        "    \n",
        "    blurred_image = None\n",
        "    \n",
        "    ## Write your code \n",
        "    \n",
        "    \n",
        "    return blurred_image\n",
        "\n",
        "blurredImg = blurring(image)\n",
        "fig, (ax1, ax2) = plt.subplots(1, 2, figsize=(20,20))\n",
        "\n",
        "# display original image in grayscale\n",
        "gray_cancer = rgb2gray(image)\n",
        "ax1.imshow(gray_cancer, cmap='gray')\n",
        "\n",
        "# display blurred image\n",
        "ax2.imshow(blurredImg, cmap='gray')\n",
        "plt.show()"
      ],
      "execution_count": null,
      "outputs": []
    },
    {
      "cell_type": "code",
      "metadata": {
        "id": "748LVkfXLyv-"
      },
      "source": [
        "# De-blurring Image\n",
        "blurredImg = blurredImg \n",
        "\n",
        "# write deblur or sharpness filter\n",
        "deblur_filter = None\n",
        "\n",
        "def deblurring(image, degree=3):\n",
        "    '''\n",
        "    image: input blurred image\n",
        "    degree: how much deblurring you want / Hint: repeat operation degree times\n",
        "    '''\n",
        "    \n",
        "    deblurred_image = None\n",
        "    \n",
        "    ## write your code here\n",
        "    \n",
        "    return deblurred_image\n",
        "\n",
        "deblurredImg = deblurring(blurredImg)\n",
        "fig, (ax1, ax2) = plt.subplots(1, 2, figsize=(20,20))\n",
        "\n",
        "# display the blurred image\n",
        "ax1.imshow(blurredImg, cmap='gray')\n",
        "\n",
        "# display deblurred image\n",
        "ax2.imshow(deblurredImg, cmap='gray')\n",
        "plt.show()"
      ],
      "execution_count": null,
      "outputs": []
    }
  ]
}