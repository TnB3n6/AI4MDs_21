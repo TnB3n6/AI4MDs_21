{
 "cells": [
  {
   "cell_type": "markdown",
   "metadata": {},
   "source": [
    "# Debugging your code\n",
    "\n",
    "It is very rare for a code to work perfectly for the first time. There usually many erros which maybe syntactical mistakes or flaws in the logic of the code itself. That is why it is absolutely essential to be able to debug your code. Debugging has two steps:\n",
    "- Understand the error message.\n",
    "- Find the source of the error.\n",
    "- Find a solution."
   ]
  },
  {
   "cell_type": "markdown",
   "metadata": {},
   "source": [
    "## Common mistakes"
   ]
  },
  {
   "cell_type": "markdown",
   "metadata": {},
   "source": [
    "Case sensitive"
   ]
  },
  {
   "cell_type": "code",
   "execution_count": null,
   "metadata": {},
   "outputs": [],
   "source": [
    "Name = \"Max\"\n",
    "Age = \"20\"\n",
    "\n",
    "print(\"My name is {} and I am {} years old\".format(name,age))"
   ]
  },
  {
   "cell_type": "markdown",
   "metadata": {},
   "source": [
    "Reserved keywords"
   ]
  },
  {
   "cell_type": "code",
   "execution_count": null,
   "metadata": {},
   "outputs": [],
   "source": [
    "name = \"Max\"\n",
    "class = 5\n",
    "\n",
    "print(\"My name is {} and study in class {}.\".format(name,class))"
   ]
  },
  {
   "cell_type": "markdown",
   "metadata": {},
   "source": [
    "Iterating over lists"
   ]
  },
  {
   "cell_type": "code",
   "execution_count": null,
   "metadata": {},
   "outputs": [],
   "source": [
    "spam = ['cat', 'dog', 'mouse']\n",
    "\n",
    "for i in range(spam):\n",
    "\n",
    "    print(spam[i])\n"
   ]
  },
  {
   "cell_type": "markdown",
   "metadata": {},
   "source": [
    "Trying to concatenate a non-string value to a string value."
   ]
  },
  {
   "cell_type": "code",
   "execution_count": null,
   "metadata": {},
   "outputs": [],
   "source": [
    "numEggs = 12\n",
    "\n",
    "print('I have ' + numEggs + ' eggs.')"
   ]
  },
  {
   "cell_type": "markdown",
   "metadata": {},
   "source": [
    "Indexing errors"
   ]
  },
  {
   "cell_type": "code",
   "execution_count": null,
   "metadata": {},
   "outputs": [],
   "source": [
    "spam = ['cat', 'dog', 'mouse']\n",
    "\n",
    "print(spam[3])\n",
    "\n",
    " "
   ]
  },
  {
   "cell_type": "markdown",
   "metadata": {},
   "source": [
    "Find factors of 10"
   ]
  },
  {
   "cell_type": "code",
   "execution_count": null,
   "metadata": {},
   "outputs": [],
   "source": [
    "for i in range(10):\n",
    "    if 10%i == 0:\n",
    "        print(\"{}\".format(i))"
   ]
  },
  {
   "cell_type": "markdown",
   "metadata": {},
   "source": [
    "I have defined some four functions here. These four functions are being called by a parent function.\n",
    "Try to run these cells and solve the errors you get."
   ]
  },
  {
   "cell_type": "code",
   "execution_count": null,
   "metadata": {},
   "outputs": [],
   "source": [
    "# a function to count the sum of first N natural numbers\n",
    "\n",
    "def count(n)\n",
    "    count = n(n+1)/2\n",
    "return count\n",
    "\n"
   ]
  },
  {
   "cell_type": "code",
   "execution_count": null,
   "metadata": {},
   "outputs": [],
   "source": [
    "# a function to count the sum of even natural numbers till N\n",
    "\n",
    "def count_even(n)\n",
    "    for i in range(n):\n",
    "    if i%2 = 0\n",
    "        count += n\n",
    "    return count"
   ]
  },
  {
   "cell_type": "code",
   "execution_count": null,
   "metadata": {},
   "outputs": [],
   "source": [
    "# a function to count the sum of odd natural numbers till N\n",
    "\n",
    "def count_odd(n)\n",
    "    for i in (0,n)\n",
    "        if i%2 != 0\n",
    "        count += i\n",
    "        return count"
   ]
  },
  {
   "cell_type": "code",
   "execution_count": null,
   "metadata": {},
   "outputs": [],
   "source": [
    "# a function to count the sum of squares of first N natural numbers\n",
    "\n",
    "def count_square(n):\n",
    "return n/6*(n+1)*(2n+1)"
   ]
  },
  {
   "cell_type": "code",
   "execution_count": null,
   "metadata": {},
   "outputs": [],
   "source": [
    "def calculate_all(n):\n",
    "    count = count(n)\n",
    "    count_even = count_even(n)\n",
    "    count_odd = count_odd(n)\n",
    "    count_squares = count_square(n)\n",
    "    \n",
    "    print(\"Sum of first {} natural numbers: {}\".format(n,count))\n",
    "    print(\"Sum of all even natural numbers till {} is: {}\".format(n,count_even))\n",
    "    print(\"Sum of all odd natural numbers till {} is: {}\".format(n,count_odd))\n",
    "    print(\"Sum of squares of first {} natural numbers: {}\".format(n,count_squares))"
   ]
  },
  {
   "cell_type": "code",
   "execution_count": null,
   "metadata": {},
   "outputs": [],
   "source": [
    "calculate_all(2)"
   ]
  },
  {
   "cell_type": "markdown",
   "metadata": {},
   "source": []
  }
 ],
 "metadata": {
  "kernelspec": {
   "display_name": "Python 3",
   "language": "python",
   "name": "python3"
  },
  "language_info": {
   "codemirror_mode": {
    "name": "ipython",
    "version": 3
   },
   "file_extension": ".py",
   "mimetype": "text/x-python",
   "name": "python",
   "nbconvert_exporter": "python",
   "pygments_lexer": "ipython3",
   "version": "3.7.5-final"
  },
  "toc": {
   "base_numbering": 1,
   "nav_menu": {},
   "number_sections": true,
   "sideBar": true,
   "skip_h1_title": false,
   "title_cell": "Table of Contents",
   "title_sidebar": "Contents",
   "toc_cell": false,
   "toc_position": {},
   "toc_section_display": true,
   "toc_window_display": false
  }
 },
 "nbformat": 4,
 "nbformat_minor": 2
}