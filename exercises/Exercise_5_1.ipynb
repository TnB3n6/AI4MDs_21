{
 "cells": [
  {
   "cell_type": "markdown",
   "metadata": {
    "collapsed": false
   },
   "source": [
    "# Introduction to classes (object oriented programming)\n",
    "\n",
    "Object oriented programming is a programming paradigm revolving around the idea of modelling data and its behavior with objects inspired by an abstraction of reality.\n",
    "More information on Pythons philosophy on objects here: https://docs.python.org/3/reference/datamodel.html\n",
    "\n",
    "An object is an instance of class. A class defines the attributes and actions of an object. There can be many instances of the same class.\n",
    "\n",
    "Classes provide a means of bundling data and functionality together. Creating a new class creates a new type of object, allowing new instances of that type to be made. Each class instance can have attributes attached to it for maintaining its state. Class instances can also have methods (defined by its class) for modifying its state.\n",
    "\n",
    "Classes can be inherited e.g. a dog gets all the attributes and actions of a mammal, but additionally has dog specific attributes and actions: all mammals can breathe - only a dog can bark.\n",
    "\n",
    "The **self** parameter is a reference to the current instance of the class, and is used to access variables that belongs to the class."
   ]
  },
  {
   "cell_type": "code",
   "execution_count": null,
   "metadata": {},
   "outputs": [],
   "source": [
    "# Imports\n",
    "!pip install --upgrade -q gspread\n",
    "from google.colab import auth\n",
    "auth.authenticate_user()\n",
    "import gspread\n",
    "from oauth2client.client import GoogleCredentials\n",
    "import datetime\n",
    "import pytz\n",
    "\n",
    "tz = pytz.timezone('Europe/Berlin')\n",
    "\n",
    "gc = gspread.authorize(GoogleCredentials.get_application_default())"
   ]
  },
  {
   "cell_type": "code",
   "execution_count": null,
   "metadata": {},
   "outputs": [],
   "source": [
    "student_name = \"yourName\"\n",
    "assert student_name != \"yourName\""
   ]
  },
  {
   "cell_type": "code",
   "execution_count": null,
   "metadata": {},
   "outputs": [],
   "source": [
    "#@title Result Form\n",
    "gsheet = gc.open_by_url(\"https://docs.google.com/spreadsheets/d/1tbf2rqsvRSqCNMtwxGW34_LoUL4pR3qBH4ht8gZXkl0/edit?usp=sharing\")\n",
    "\n",
    "def write_result(task_number, result=None):\n",
    "  worksheet = gsheet.worksheet(\"task{}\".format(task_number))\n",
    "  current_time = datetime.datetime.now(tz).strftime(\"%X\")\n",
    "  current_date = str(datetime.date.today())\n",
    "  if result:\n",
    "    worksheet.append_row([student_name, current_time, current_date, result])\n",
    "    print(\"Task {} successfully solved by {} at {} with result: {}\".format(task_number, student_name, current_time, result))\n",
    "  else:\n",
    "    worksheet.append_row([student_name, current_time, current_date])\n",
    "    print(\"Task {} successfully solved by {} at {}\".format(task_number, student_name, current_time))\n",
    "\n",
    "print(\"Reporting enabled - write_result(number_of_task, result='your result') \")\n",
    "write_result(0)"
   ]
  },
  {
   "cell_type": "code",
   "execution_count": null,
   "metadata": {
    "collapsed": false,
    "pycharm": {
     "name": "#%%\n"
    }
   },
   "outputs": [],
   "source": [
    "# definte the class for a person\n",
    "class Person:\n",
    "    '''\n",
    "    This class represent a Person.\n",
    "    : attribute first_name: First name of the person\n",
    "    : attribute last_name: Last name of the person    \n",
    "    '''\n",
    "    # __ indicates internal functions, __method__ indicates special python method\n",
    "    def __init__(self, first_name, last_name):\n",
    "        '''\n",
    "        This function is always called when an instance of a class is created(Constructor).\n",
    "        The __init__() function is used to assign values to object properties or\n",
    "        other operations that are necessary to do when the object is being created.\n",
    "        \"self\" always needs to be set as the first argument in order for the methods to be able to access class attributes (like first and lasts name)\n",
    "        In this example first and last name are given to the constructor to create an instance.\n",
    "        see https://docs.python.org/3/reference/datamodel.html#object.__init__\n",
    "        '''\n",
    "        # within classes attributes are defined with the pattern self.attribute.\n",
    "        # this way attributes cann be accessed within the class definition by self.attribute or in the instance of a class (object) like object.attribute\n",
    "        self.first_name = first_name\n",
    "        self.last_name = last_name    \n"
   ]
  },
  {
   "cell_type": "markdown",
   "metadata": {
    "collapsed": false,
    "pycharm": {
     "name": "#%% md\n"
    }
   },
   "source": [
    "Create an instance of a person"
   ]
  },
  {
   "cell_type": "code",
   "execution_count": null,
   "metadata": {
    "collapsed": false,
    "pycharm": {
     "name": "#%%\n"
    }
   },
   "outputs": [],
   "source": []
  },
  {
   "cell_type": "markdown",
   "metadata": {
    "collapsed": false
   },
   "source": [
    "Get the type of the new object"
   ]
  },
  {
   "cell_type": "code",
   "execution_count": null,
   "metadata": {
    "collapsed": false,
    "pycharm": {
     "name": "#%%\n"
    }
   },
   "outputs": [],
   "source": []
  },
  {
   "cell_type": "markdown",
   "metadata": {
    "collapsed": false,
    "pycharm": {
     "name": "#%% md\n"
    }
   },
   "source": [
    "Print the first and last name of the person"
   ]
  },
  {
   "cell_type": "code",
   "execution_count": null,
   "metadata": {
    "collapsed": false,
    "pycharm": {
     "name": "#%%\n"
    }
   },
   "outputs": [],
   "source": []
  },
  {
   "cell_type": "markdown",
   "metadata": {
    "collapsed": false
   },
   "source": [
    "Add age as an attribute"
   ]
  },
  {
   "cell_type": "code",
   "execution_count": null,
   "metadata": {
    "collapsed": false,
    "pycharm": {
     "name": "#%%\n"
    }
   },
   "outputs": [],
   "source": []
  },
  {
   "cell_type": "code",
   "execution_count": null,
   "metadata": {},
   "outputs": [],
   "source": [
    "# age implemented\n",
    "write_result(1, 'age implemented')"
   ]
  },
  {
   "cell_type": "markdown",
   "metadata": {
    "collapsed": false,
    "pycharm": {
     "name": "#%% md\n"
    }
   },
   "source": [
    "Print the age of our existing person"
   ]
  },
  {
   "cell_type": "code",
   "execution_count": null,
   "metadata": {
    "collapsed": false,
    "pycharm": {
     "name": "#%%\n"
    }
   },
   "outputs": [],
   "source": []
  },
  {
   "cell_type": "markdown",
   "metadata": {
    "collapsed": false
   },
   "source": [
    "Create a new instance of a person and print the age"
   ]
  },
  {
   "cell_type": "code",
   "execution_count": null,
   "metadata": {
    "collapsed": false,
    "pycharm": {
     "name": "#%%\n"
    }
   },
   "outputs": [],
   "source": []
  },
  {
   "cell_type": "markdown",
   "metadata": {
    "collapsed": false,
    "pycharm": {
     "name": "#%% md\n"
    }
   },
   "source": [
    "Add method 'introduce' that prints name and age of the person"
   ]
  },
  {
   "cell_type": "code",
   "execution_count": null,
   "metadata": {
    "collapsed": false,
    "pycharm": {
     "name": "#%%\n"
    }
   },
   "outputs": [],
   "source": []
  },
  {
   "cell_type": "markdown",
   "metadata": {
    "collapsed": false
   },
   "source": [
    "Call method 'introduce' of a new person"
   ]
  },
  {
   "cell_type": "code",
   "execution_count": null,
   "metadata": {
    "collapsed": false,
    "pycharm": {
     "name": "#%%\n"
    }
   },
   "outputs": [],
   "source": []
  },
  {
   "cell_type": "markdown",
   "metadata": {
    "collapsed": false,
    "pycharm": {
     "name": "#%% md\n"
    }
   },
   "source": [
    "Change the last name of the person"
   ]
  },
  {
   "cell_type": "code",
   "execution_count": null,
   "metadata": {
    "collapsed": false,
    "pycharm": {
     "name": "#%%\n"
    }
   },
   "outputs": [],
   "source": []
  },
  {
   "cell_type": "markdown",
   "metadata": {
    "collapsed": false
   },
   "source": [
    "Call method 'introduce' of the same person"
   ]
  },
  {
   "cell_type": "code",
   "execution_count": null,
   "metadata": {
    "collapsed": false,
    "pycharm": {
     "name": "#%%\n"
    }
   },
   "outputs": [],
   "source": []
  },
  {
   "cell_type": "markdown",
   "metadata": {
    "collapsed": false,
    "pycharm": {
     "name": "#%% md\n"
    }
   },
   "source": [
    "Define a class patient that inherits all the attributes from person"
   ]
  },
  {
   "cell_type": "code",
   "execution_count": null,
   "metadata": {
    "collapsed": false,
    "pycharm": {
     "name": "#%%\n"
    }
   },
   "outputs": [],
   "source": [
    "class Patient(Person):\n",
    "    '''\n",
    "    This class is inherited from Person class. It represents Patients.\n",
    "    : attribute patient_id: ID number of patient\n",
    "    '''\n",
    "    def __init__(self, first_name, last_name, age=None, pid=None):\n",
    "        '''\n",
    "        Constructor of Patient class.\n",
    "        We also call the constructor of the class Person from which it was inherited from.\n",
    "        '''\n",
    "        super().__init__(first_name, last_name, age)\n",
    "        self.patient_id = pid\n",
    "      \n",
    "    def __str__(self):\n",
    "        '''\n",
    "        This function is called when we want to print the details of an object of the class\n",
    "        '''\n",
    "        return (\"Name: {} {} \\n Patient ID: {} \\n\".format(self.first_name, self.last_name, self.patient_id))"
   ]
  },
  {
   "cell_type": "markdown",
   "metadata": {
    "collapsed": false
   },
   "source": [
    "Create an instance of a patient"
   ]
  },
  {
   "cell_type": "code",
   "execution_count": null,
   "metadata": {
    "collapsed": false,
    "pycharm": {
     "name": "#%%\n"
    }
   },
   "outputs": [],
   "source": []
  },
  {
   "cell_type": "markdown",
   "metadata": {
    "collapsed": false
   },
   "source": [
    "Call the introduction method of the patient"
   ]
  },
  {
   "cell_type": "code",
   "execution_count": null,
   "metadata": {
    "collapsed": false,
    "pycharm": {
     "name": "#%%\n"
    }
   },
   "outputs": [],
   "source": []
  },
  {
   "cell_type": "markdown",
   "metadata": {
    "collapsed": false
   },
   "source": [
    "Get the type of patient"
   ]
  },
  {
   "cell_type": "code",
   "execution_count": null,
   "metadata": {
    "collapsed": false,
    "pycharm": {
     "name": "#%%\n"
    }
   },
   "outputs": [],
   "source": []
  },
  {
   "cell_type": "markdown",
   "metadata": {
    "collapsed": false
   },
   "source": [
    "Print the patient"
   ]
  },
  {
   "cell_type": "code",
   "execution_count": null,
   "metadata": {
    "collapsed": false,
    "pycharm": {
     "name": "#%%\n"
    }
   },
   "outputs": [],
   "source": []
  },
  {
   "cell_type": "markdown",
   "metadata": {
    "collapsed": false
   },
   "source": [
    "Now lets define a class waiting room that has a list of patients similar to a dataset"
   ]
  },
  {
   "cell_type": "code",
   "execution_count": null,
   "metadata": {
    "collapsed": false,
    "pycharm": {
     "name": "#%%\n"
    }
   },
   "outputs": [],
   "source": [
    "class WaitingRoom:\n",
    "    '''\n",
    "    This class represent a waiting room. We have list of patients waiting.\n",
    "    : attribute patient: a list of patients\n",
    "    '''\n",
    "    def __init__(self, patients=None):\n",
    "        '''\n",
    "        Constructor, expects a list of instances of class patient\n",
    "        '''\n",
    "        self.patients = patients\n",
    "    \n",
    "    def __getitem__(self, index=None):\n",
    "        '''\n",
    "        This function return a patient using the index. We can then iterate over the class instance  like a list.\n",
    "        see https://docs.python.org/3/reference/datamodel.html#object.__getitem__\n",
    "        '''\n",
    "        return self.patients[index]\n",
    "    \n",
    "    def __len__(self):\n",
    "        '''\n",
    "        Returns the number of patients in the room\n",
    "        see https://docs.python.org/3/reference/datamodel.html#object.__len__\n",
    "        '''\n",
    "        return len(self.patients)"
   ]
  },
  {
   "cell_type": "code",
   "execution_count": null,
   "metadata": {
    "collapsed": false,
    "pycharm": {
     "name": "#%%\n"
    }
   },
   "outputs": [],
   "source": [
    "# We declare two patients\n",
    "patient_1 = Patient(\"Max\", \"Mustermann\", \"0001\")\n",
    "patient_2 = Patient(\"Frida\", \"Froehlich\", \"0002\")\n",
    "\n",
    "# Declare a list of patients and add the patients to this list\n",
    "patients = []\n",
    "patients.append(patient_1)\n",
    "patients.append(patient_2)\n",
    "\n",
    "# Add the patients to the waiting room\n",
    "\n",
    "waiting_room = WaitingRoom(patients)"
   ]
  },
  {
   "cell_type": "markdown",
   "metadata": {
    "collapsed": false
   },
   "source": [
    "Let see how many people are there in the waiting room"
   ]
  },
  {
   "cell_type": "code",
   "execution_count": null,
   "metadata": {
    "collapsed": false,
    "pycharm": {
     "name": "#%%\n"
    }
   },
   "outputs": [],
   "source": []
  },
  {
   "cell_type": "markdown",
   "metadata": {
    "collapsed": false,
    "pycharm": {
     "name": "#%% md\n"
    }
   },
   "source": [
    "Access the first name of the first patient in the waiting room"
   ]
  },
  {
   "cell_type": "code",
   "execution_count": null,
   "metadata": {
    "collapsed": false,
    "pycharm": {
     "name": "#%%\n"
    }
   },
   "outputs": [],
   "source": []
  },
  {
   "cell_type": "code",
   "execution_count": null,
   "metadata": {
    "collapsed": false,
    "pycharm": {
     "name": "#%%\n"
    }
   },
   "outputs": [],
   "source": []
  },
  {
   "cell_type": "markdown",
   "metadata": {
    "collapsed": false,
    "pycharm": {
     "name": "#%% md\n"
    }
   },
   "source": [
    "Let is loop over the patients in the waiting room and print their details"
   ]
  },
  {
   "cell_type": "code",
   "execution_count": null,
   "metadata": {},
   "outputs": [],
   "source": []
  },
  {
   "cell_type": "code",
   "execution_count": null,
   "metadata": {
    "collapsed": false,
    "pycharm": {
     "name": "#%%\n"
    }
   },
   "outputs": [],
   "source": [
    "# waiting room implemented\n",
    "write_result(2, \"waiting room implemented\")"
   ]
  },
  {
   "cell_type": "markdown",
   "metadata": {
    "collapsed": false
   },
   "source": [
    "# Homework"
   ]
  },
  {
   "cell_type": "code",
   "execution_count": null,
   "metadata": {
    "collapsed": false,
    "pycharm": {
     "name": "#%%\n"
    }
   },
   "outputs": [],
   "source": [
    "# add the following functions to the waiting room class above (you need to redefine the whole class again)\n",
    "\n",
    "def enter_room(self, patient=None):\n",
    "\"\"\" adds a patient object to the list of patients \"\"\"\n",
    "\n",
    "def leave_room(self, index=None)\n",
    "\"\"\" removes a patient from the list of patients\n",
    "hint: use list.pop([i]) https://docs.python.org/2/tutorial/datastructures.html "
   ]
  }
 ],
 "metadata": {
  "accelerator": "GPU",
  "colab": {
   "collapsed_sections": [],
   "name": "Exercise_6.ipynb",
   "provenance": [],
   "toc_visible": true
  },
  "kernelspec": {
   "display_name": "Python 3",
   "language": "python",
   "name": "python3"
  },
  "language_info": {
   "codemirror_mode": {
    "name": "ipython",
    "version": 3
   },
   "file_extension": ".py",
   "mimetype": "text/x-python",
   "name": "python",
   "nbconvert_exporter": "python",
   "pygments_lexer": "ipython3",
   "version": "3.7.5-final"
  },
  "toc": {
   "base_numbering": 1,
   "nav_menu": {},
   "number_sections": true,
   "sideBar": true,
   "skip_h1_title": false,
   "title_cell": "Table of Contents",
   "title_sidebar": "Contents",
   "toc_cell": false,
   "toc_position": {},
   "toc_section_display": true,
   "toc_window_display": false
  }
 },
 "nbformat": 4,
 "nbformat_minor": 1
}