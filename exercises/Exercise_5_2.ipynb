{
 "cells": [
  {
   "cell_type": "markdown",
   "metadata": {
    "collapsed": false
   },
   "source": [
    "# Get the data\n",
    "\n",
    "First we need access to data.\n",
    "- You can use this link to add the data to your drive: https://drive.google.com/drive/folders/1pHNxZVrlcKh5usWoNC_V7gR2WdeDutjv\n",
    "- If you have not done this yet, right click on the **CS4MS_Data** folder and click on the **Add shortcut to Drive** option.\n",
    "- Inside the folder **CS4MS_Data** you will see the folder **HAM10000** - this is the dataset (set of images) we will be working with.\n",
    "\n",
    "Now you can run the next cell"
   ]
  },
  {
   "cell_type": "code",
   "execution_count": null,
   "metadata": {
    "collapsed": false,
    "pycharm": {
     "name": "#%%\n"
    }
   },
   "outputs": [],
   "source": [
    "# connect notebook to your Google Drive\n",
    "from google.colab import drive\n",
    "drive.mount('/content/drive')"
   ]
  },
  {
   "cell_type": "code",
   "execution_count": null,
   "metadata": {
    "collapsed": false,
    "pycharm": {
     "name": "#%%\n"
    }
   },
   "outputs": [],
   "source": [
    "data_dir = \"/content/drive/My Drive/CS4MS_Data/HAM10000\"\n",
    "\n",
    "classes = [ 'actinic keratoses', 'basal cell carcinoma', 'benign keratosis-like lesions',\n",
    "           'dermatofibroma','melanoma', 'melanocytic nevi', 'vascular lesions']"
   ]
  },
  {
   "cell_type": "code",
   "execution_count": null,
   "metadata": {},
   "outputs": [],
   "source": [
    "# Imports\n",
    "!pip install --upgrade -q gspread\n",
    "from google.colab import auth\n",
    "auth.authenticate_user()\n",
    "import gspread\n",
    "from oauth2client.client import GoogleCredentials\n",
    "import datetime\n",
    "import pytz\n",
    "\n",
    "tz = pytz.timezone('Europe/Berlin')\n",
    "\n",
    "gc = gspread.authorize(GoogleCredentials.get_application_default())"
   ]
  },
  {
   "cell_type": "code",
   "execution_count": null,
   "metadata": {},
   "outputs": [],
   "source": [
    "student_name = \"yourName\"\n",
    "assert student_name != \"yourName\""
   ]
  },
  {
   "cell_type": "code",
   "execution_count": null,
   "metadata": {},
   "outputs": [],
   "source": [
    "\n",
    "#@title Result Form\n",
    "gsheet = gc.open_by_url(\"https://docs.google.com/spreadsheets/d/1tbf2rqsvRSqCNMtwxGW34_LoUL4pR3qBH4ht8gZXkl0/edit?usp=sharing\")\n",
    "\n",
    "def write_result(task_number, result=None):\n",
    "  worksheet = gsheet.worksheet(\"task{}\".format(task_number))\n",
    "  current_time = datetime.datetime.now(tz).strftime(\"%X\")\n",
    "  current_date = str(datetime.date.today())\n",
    "  if result:\n",
    "    worksheet.append_row([student_name, current_time, current_date, result])\n",
    "    print(\"Task {} successfully solved by {} at {} with result: {}\".format(task_number, student_name, current_time, result))\n",
    "  else:\n",
    "    worksheet.append_row([student_name, current_time, current_date])\n",
    "    print(\"Task {} successfully solved by {} at {}\".format(task_number, student_name, current_time))\n",
    "\n",
    "print(\"Reporting enabled - write_result(number_of_task, result='your result') \")"
   ]
  },
  {
   "cell_type": "code",
   "execution_count": null,
   "metadata": {},
   "outputs": [],
   "source": [
    "# quick example for object oriented programming: working with paths (folders and files)\n",
    "from pathlib import Path\n",
    "gdrive_connection_success = Path(data_dir) \n",
    "\n",
    "if gdrive_connection_success.is_dir():\n",
    "    write_result(3, 'data mounted')\n",
    "else:\n",
    "    print(\"your folder is not mounted correclty - contact the tutors!\")"
   ]
  },
  {
   "cell_type": "markdown",
   "metadata": {
    "collapsed": false,
    "pycharm": {
     "name": "#%% md\n"
    }
   },
   "source": [
    "Quick example for object oriented programming: working with paths (folders and files)\n",
    "\n",
    "Documentation of this module: https://docs.python.org/3/library/pathlib.html"
   ]
  },
  {
   "cell_type": "code",
   "execution_count": null,
   "metadata": {
    "collapsed": false,
    "pycharm": {
     "name": "#%%\n"
    }
   },
   "outputs": [],
   "source": [
    "# import Path class from the pathlib module\n",
    "from pathlib import Path"
   ]
  },
  {
   "cell_type": "code",
   "execution_count": null,
   "metadata": {
    "collapsed": false,
    "pycharm": {
     "name": "#%%\n"
    }
   },
   "outputs": [],
   "source": [
    "# create Path instance with path string from above\n",
    "p = Path(data_dir)"
   ]
  },
  {
   "cell_type": "code",
   "execution_count": null,
   "metadata": {
    "collapsed": false,
    "pycharm": {
     "name": "#%%\n"
    }
   },
   "outputs": [],
   "source": [
    "# get the name of folder / file"
   ]
  },
  {
   "cell_type": "code",
   "execution_count": null,
   "metadata": {
    "collapsed": false,
    "pycharm": {
     "name": "#%%\n"
    }
   },
   "outputs": [],
   "source": [
    "# get the path objective of the parent folder\n"
   ]
  },
  {
   "cell_type": "code",
   "execution_count": null,
   "metadata": {
    "collapsed": false,
    "pycharm": {
     "name": "#%%\n"
    }
   },
   "outputs": [],
   "source": [
    "# does the folder nv exist in our path?"
   ]
  },
  {
   "cell_type": "code",
   "execution_count": null,
   "metadata": {
    "collapsed": false,
    "pycharm": {
     "name": "#%%\n"
    }
   },
   "outputs": [],
   "source": [
    "# how to iterate over the paths within a path?\n",
    "for child in p.iterdir():\n",
    "  print(child)"
   ]
  },
  {
   "cell_type": "code",
   "execution_count": null,
   "metadata": {
    "collapsed": false,
    "pycharm": {
     "name": "#%%\n"
    }
   },
   "outputs": [],
   "source": [
    "# how to iterate over specific files also within sub-folders?\n",
    "for path in p.glob('**/*.csv'):\n",
    "  print(path)"
   ]
  },
  {
   "cell_type": "markdown",
   "metadata": {
    "collapsed": false
   },
   "source": [
    "## About the data\n",
    "\n",
    "The HAM10000 (\"Human Against Machine with 10000 training images\") dataset which contains 10,015 dermatoscopic images was made publically available by the Harvard database on June 2018 in the hopes to provide training data for automating the process of skin cancer lesion classifications. The motivation behind this act was to provide the public with an abundance and variability of data source for machine learning training purposes such that the results may be compared with that of human experts. If successful, the appplications would bring cost and time saving regimes to hospitals and medical professions alike.\n",
    "\n",
    "Apart from the 10,015 images, a metadata file with demographic information of each lesion is provided as well. More than 50% of lesions are confirmed through histopathology (histo), the ground truth for the rest of the cases is either follow-up examination (follow_up), expert consensus (consensus), or confirmation by in-vivo confocal microscopy (confocal)\n",
    "\n",
    "You can download the dataset here: https://dataverse.harvard.edu/dataset.xhtml?persistentId=doi:10.7910/DVN/DBW86T\n",
    "\n",
    "The 7 classes of skin cancer lesions included in this dataset are:\n",
    "\n",
    "- Melanocytic nevi\n",
    "- Melanoma\n",
    "- Benign keratosis-like lesions\n",
    "- Basal cell carcinoma\n",
    "- Actinic keratoses\n",
    "- Vascular lesions\n",
    "- Dermatofibroma"
   ]
  },
  {
   "cell_type": "markdown",
   "metadata": {
    "collapsed": false
   },
   "source": [
    "Let's analyze the metadata of the dataset"
   ]
  },
  {
   "cell_type": "code",
   "execution_count": null,
   "metadata": {
    "collapsed": false,
    "pycharm": {
     "name": "#%%\n"
    }
   },
   "outputs": [],
   "source": [
    "# import panda module for tabular data - https://pandas.pydata.org/docs/\n",
    "import pandas as pd\n",
    "\n",
    "# importing metadata and checking for its shape\n",
    "metadata = pd.read_csv(data_dir + '/HAM10000_metadata.csv')\n",
    "\n",
    "# label encoding the seven classes for skin cancers\n",
    "metadata['label'] = pd.Categorical(metadata[\"dx\"]).codes\n",
    "metadata.sample(10)"
   ]
  },
  {
   "cell_type": "code",
   "execution_count": null,
   "metadata": {
    "collapsed": false,
    "pycharm": {
     "name": "#%%\n"
    }
   },
   "outputs": [],
   "source": [
    "# numerical statistics\n",
    "metadata.describe()\n"
   ]
  },
  {
   "cell_type": "markdown",
   "metadata": {
    "collapsed": false,
    "pycharm": {
     "name": "#%% md\n"
    }
   },
   "source": [
    "Plot of class distribution"
   ]
  },
  {
   "cell_type": "code",
   "execution_count": null,
   "metadata": {
    "collapsed": false,
    "pycharm": {
     "name": "#%%\n"
    }
   },
   "outputs": [],
   "source": [
    "# import matplotlib module for plotting - https://matplotlib.org/3.2.1/contents.html\n",
    "import matplotlib.pyplot as plt\n",
    "%matplotlib inline\n",
    "\n",
    "# Getting a sense of what the distribution of each column looks like\n",
    "fig = plt.figure(figsize=(20,10))\n",
    "\n",
    "ax1 = fig.add_subplot(221)\n",
    "metadata['dx'].value_counts().plot(kind='bar', ax=ax1)\n",
    "ax1.set_ylabel('Count')\n",
    "ax1.set_title('Cell Type')\n",
    "\n",
    "\n",
    "plt.tight_layout()\n",
    "plt.show()"
   ]
  },
  {
   "cell_type": "markdown",
   "metadata": {
    "collapsed": false,
    "pycharm": {
     "name": "#%% md\n"
    }
   },
   "source": [
    "Plot 5 images of each class"
   ]
  },
  {
   "cell_type": "code",
   "execution_count": null,
   "metadata": {
    "collapsed": false,
    "pycharm": {
     "name": "#%%\n"
    }
   },
   "outputs": [],
   "source": [
    "import imageio\n",
    "\n",
    "#Visualizing the images\n",
    "\n",
    "label = [ 'akiec', 'bcc','bkl','df','mel', 'nv',  'vasc']\n",
    "label_images = []\n",
    "classes = [ 'actinic keratoses', 'basal cell carcinoma', 'benign keratosis-like lesions',\n",
    "           'dermatofibroma','melanoma', 'melanocytic nevi', 'vascular lesions']\n",
    "\n",
    "fig = plt.figure(figsize=(20, 20))\n",
    "num_images = 5\n",
    "\n",
    "for i in label:\n",
    "    sample = metadata[metadata['dx'] == i]['image_id'][:num_images]\n",
    "    label_images.extend(sample)\n",
    "\n",
    "for position,ID in enumerate(label_images):\n",
    "    labl = metadata[metadata['image_id'] == ID]['dx']\n",
    "    im_sample = data_dir + \"/\" + labl.values[0] + f'/{ID}.jpg'\n",
    "\n",
    "    im_sample = imageio.imread(im_sample)\n",
    "\n",
    "    plt.subplot(7,num_images,position+1)\n",
    "    plt.imshow(im_sample)\n",
    "    plt.axis('off')\n",
    "\n",
    "    if position%5 == 0:\n",
    "        title = int(position/num_images)\n",
    "        plt.title(classes[title], loc='left', size=20)\n",
    "\n",
    "plt.show()"
   ]
  },
  {
   "cell_type": "code",
   "execution_count": null,
   "metadata": {},
   "outputs": [],
   "source": [
    "# visualization done\n",
    "write_result(4, 'visualization done')"
   ]
  },
  {
   "cell_type": "markdown",
   "metadata": {
    "collapsed": false
   },
   "source": [
    "# Loading the data\n",
    "\n",
    "Use the **torchvision.datasets.ImageFolder** dataset class. This class requires the dataset to be arranged into folders of their respective class or labels. We already provide the dataset in suitable preprocessed format.\n",
    "\n",
    "Here we also apply the augmentation that we defined above.\n",
    "\n",
    "You can check here : https://pytorch.org/docs/stable/torchvision/datasets.html#imagefolder"
   ]
  },
  {
   "cell_type": "code",
   "execution_count": null,
   "metadata": {
    "collapsed": false,
    "pycharm": {
     "name": "#%%\n"
    }
   },
   "outputs": [],
   "source": [
    "# import the torchvision module from the Pytorch framework\n",
    "# \"The torchvision package consists of popular datasets, model architectures, and common image transformations for computer vision.\"\n",
    "# documentation: https://pytorch.org/docs/stable/torchvision/index.html\n",
    "import torchvision"
   ]
  },
  {
   "cell_type": "markdown",
   "metadata": {
    "collapsed": false,
    "pycharm": {
     "name": "#%% md\n"
    }
   },
   "source": [
    "Wait! Why is this module even available? It is not part of the list of default python module.\n",
    "\n",
    "Here's why: Google thinks you are most likely interested in machine learning and has the most popular frameworks preinstalled.\n",
    "\n",
    "You could install new modules with this command:"
   ]
  },
  {
   "cell_type": "code",
   "execution_count": null,
   "metadata": {
    "collapsed": false,
    "pycharm": {
     "name": "#%%\n"
    }
   },
   "outputs": [],
   "source": [
    "!pip install torchvision"
   ]
  },
  {
   "cell_type": "code",
   "execution_count": null,
   "metadata": {
    "collapsed": false,
    "pycharm": {
     "name": "#%%\n"
    }
   },
   "outputs": [],
   "source": [
    "# create an instance of the image folder class to load images by classes defined with the folders given\n",
    "dataset = torchvision.datasets.ImageFolder(root= data_dir)"
   ]
  },
  {
   "cell_type": "markdown",
   "metadata": {
    "collapsed": false
   },
   "source": [
    "Nice, that was easy. Now let's have a look at the dataset:"
   ]
  },
  {
   "cell_type": "code",
   "execution_count": null,
   "metadata": {
    "collapsed": false,
    "pycharm": {
     "name": "#%%\n"
    }
   },
   "outputs": [],
   "source": [
    "# How many images are in the dataset?"
   ]
  },
  {
   "cell_type": "code",
   "execution_count": null,
   "metadata": {
    "collapsed": false,
    "pycharm": {
     "name": "#%%\n"
    }
   },
   "outputs": [],
   "source": [
    "# Some useful attributes:\n",
    "print(f'folder names: {dataset.classes} ' +\n",
    "      f'\\n\\n number of classes:  {len(dataset.classes)}' +\n",
    "      f'\\n\\n dictionary with label (class) to encoding (target index): {dataset.class_to_idx}')"
   ]
  },
  {
   "cell_type": "code",
   "execution_count": null,
   "metadata": {
    "collapsed": false,
    "pycharm": {
     "name": "#%%\n"
    }
   },
   "outputs": [],
   "source": [
    "# What type does the dataset's get item method return?\n"
   ]
  },
  {
   "cell_type": "code",
   "execution_count": null,
   "metadata": {
    "collapsed": false,
    "pycharm": {
     "name": "#%%\n"
    }
   },
   "outputs": [],
   "source": [
    "# Let's separate the input and output"
   ]
  },
  {
   "cell_type": "code",
   "execution_count": null,
   "metadata": {
    "collapsed": false,
    "pycharm": {
     "name": "#%%\n"
    }
   },
   "outputs": [],
   "source": [
    "# show image"
   ]
  },
  {
   "cell_type": "code",
   "execution_count": null,
   "metadata": {
    "collapsed": false,
    "pycharm": {
     "name": "#%%\n"
    }
   },
   "outputs": [],
   "source": [
    "# print label"
   ]
  },
  {
   "cell_type": "code",
   "execution_count": null,
   "metadata": {
    "collapsed": false,
    "pycharm": {
     "name": "#%%\n"
    }
   },
   "outputs": [],
   "source": [
    "# What did those numbers mean again?"
   ]
  },
  {
   "cell_type": "code",
   "execution_count": null,
   "metadata": {
    "collapsed": false,
    "pycharm": {
     "name": "#%%\n"
    }
   },
   "outputs": [],
   "source": [
    "# little helper to show the data points\n",
    "def show_data_entry(data):\n",
    "  image, label = data\n",
    "  print(f\"Image Shape: {image.size} \\n Label: {label} \\n Lesion Type: {classes[label]}\")\n",
    "  return image\n"
   ]
  },
  {
   "cell_type": "code",
   "execution_count": null,
   "metadata": {
    "collapsed": false,
    "pycharm": {
     "name": "#%%\n"
    }
   },
   "outputs": [],
   "source": [
    "# let's play with this a bit\n",
    "show_data_entry(dataset[1000])"
   ]
  },
  {
   "cell_type": "markdown",
   "metadata": {
    "collapsed": false
   },
   "source": [
    "# Train, Test and Validation Split\n",
    "It is a best practice to split the entire dataset into 3 parts:\n",
    "- Train: Used to train a network.\n",
    "- Validation: Fine tune the network.\n",
    "- Test: Kept as unseen data to gauge the performance of out trained network.\n",
    "\n",
    "\n",
    "The splitting should be done class wise so that we have equal representation of all classes in each subset of the data."
   ]
  },
  {
   "cell_type": "code",
   "execution_count": null,
   "metadata": {
    "collapsed": false,
    "pycharm": {
     "name": "#%%\n"
    }
   },
   "outputs": [],
   "source": [
    "# import of the main Pytorch module - see: https://pytorch.org/docs/stable/torch.html\n",
    "# \"The torch package contains data structures for multi-dimensional tensors and mathematical operations over these are defined. Additionally, it provides many utilities for efficient serializing of Tensors and arbitrary types, and other useful utilities.\"\n",
    "import torch\n",
    "\n",
    "# import the numpy module a powerful package for scientific computing\n",
    "# https://numpy.org/doc/stable/\n",
    "import numpy as np\n",
    "\n",
    "#import a helpful method for splitting the dataset from SciKit Learn - https://scikit-learn.org/stable/modules/generated/sklearn.model_selection.train_test_split.html\n",
    "from sklearn.model_selection import train_test_split"
   ]
  },
  {
   "cell_type": "code",
   "execution_count": null,
   "metadata": {
    "collapsed": false,
    "pycharm": {
     "name": "#%%\n"
    }
   },
   "outputs": [],
   "source": [
    "# get the total amount of images in the dataset\n",
    "num_images = len(dataset)\n",
    "\n",
    "# create a list of indices for the whole dataset\n",
    "indices = np.arange(num_images)\n",
    "\n",
    "# get the class labels from the dataset object (0-6)\n",
    "class_labels = dataset.targets\n",
    "\n",
    "# define the percentage of data that is not used for training\n",
    "split_size = 0.2\n",
    "\n",
    "# call a function of sklarn that takes care of splitting the dataset into training and validation+testing\n",
    "train_indices, test_indices = train_test_split(indices,\n",
    "                                               test_size=split_size,\n",
    "                                               shuffle=True,\n",
    "                                               stratify= class_labels,\n",
    "                                               random_state=42)\n",
    "\n",
    "# call a function of sklearn that splits validation+testing into validation and testing\n",
    "train_indices, val_indices = train_test_split(train_indices,\n",
    "                                               test_size=split_size,\n",
    "                                               shuffle=True,\n",
    "                                               stratify= np.asarray(class_labels)[train_indices],\n",
    "                                               random_state=42)"
   ]
  },
  {
   "cell_type": "code",
   "execution_count": null,
   "metadata": {},
   "outputs": [],
   "source": [
    "# dataset splitting done\n",
    "write_result(5, 'dataset splitting done')"
   ]
  },
  {
   "cell_type": "markdown",
   "metadata": {
    "collapsed": false
   },
   "source": [
    "Now, we have our dataset loaded! Next week we will look into data loaders, augmentation and how to apply the data."
   ]
  },
  {
   "cell_type": "markdown",
   "metadata": {
    "collapsed": false
   },
   "source": [
    "# Hausaufgabe\n",
    "\n",
    "1. Count the appearance of each class in the different splits"
   ]
  },
  {
   "cell_type": "raw",
   "metadata": {},
   "source": [
    "# hint: to save time use dataset.targets"
   ]
  },
  {
   "cell_type": "markdown",
   "metadata": {
    "collapsed": false
   },
   "source": []
  }
 ],
 "metadata": {
  "kernelspec": {
   "display_name": "Python 3",
   "language": "python",
   "name": "python3"
  },
  "language_info": {
   "codemirror_mode": {
    "name": "ipython",
    "version": 3
   },
   "file_extension": ".py",
   "mimetype": "text/x-python",
   "name": "python",
   "nbconvert_exporter": "python",
   "pygments_lexer": "ipython3",
   "version": "3.7.5-final"
  },
  "toc": {
   "base_numbering": 1,
   "nav_menu": {},
   "number_sections": true,
   "sideBar": true,
   "skip_h1_title": false,
   "title_cell": "Table of Contents",
   "title_sidebar": "Contents",
   "toc_cell": false,
   "toc_position": {},
   "toc_section_display": true,
   "toc_window_display": false
  }
 },
 "nbformat": 4,
 "nbformat_minor": 2
}