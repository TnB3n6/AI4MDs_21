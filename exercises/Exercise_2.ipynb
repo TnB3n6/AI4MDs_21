{
  "nbformat": 4,
  "nbformat_minor": 0,
  "metadata": {
    "colab": {
      "name": "Exercise_2.ipynb",
      "provenance": [],
      "collapsed_sections": [],
      "toc_visible": true
    },
    "kernelspec": {
      "display_name": "Python 3",
      "language": "python",
      "name": "python3"
    },
    "language_info": {
      "codemirror_mode": {
        "name": "ipython",
        "version": 3
      },
      "file_extension": ".py",
      "mimetype": "text/x-python",
      "name": "python",
      "nbconvert_exporter": "python",
      "pygments_lexer": "ipython3",
      "version": "3.8.3"
    }
  },
  "cells": [
    {
      "cell_type": "markdown",
      "metadata": {
        "id": "Q__hwVrDS4LI"
      },
      "source": [
        "# Introduction\n",
        "\n",
        "This tutorial will teach you how to access real life data and understand it visually.\n",
        "\n",
        "For this article, we employ one of the data sets available in Munchen.de, containing information about Oktoberfest since 1985 until 2019. Although most of the years are not available (Oktoberfest started in 1810!), the data set provides valuable insights about how the festival evolved over the last 30 years.\n",
        "\n",
        "The original data has been taken from here: https://www.opengov-muenchen.de/dataset/oktoberfest (no need to go there now)\n",
        "\n",
        "\n",
        "So, let's jump into it!"
      ]
    },
    {
      "cell_type": "markdown",
      "metadata": {
        "id": "CSD3eMK0WtSq"
      },
      "source": [
        "# Libraries to Use\n",
        "\n",
        "To evaluate the dataset, we use three different Python libraries: Pandas, Matplotlib, and Plotly.\n",
        "\n",
        "- [Pandas](https://pandas.pydata.org/index.html) is a Python open source library for data science that allows us to easily work with structured data, such as **csv files, SQL tables, or Excel spreadsheets**. It provides tools for reading and writing data in different formats, carrying out exploratory analysis, and cleaning data (reshaping data sets, handling missing data, or merging data sets).\n",
        "\n",
        "- [Matplotlib](https://matplotlib.org/) is a Python 2D plotting library that can be used in Python scripts, Jupyter notebooks, and IPython shells, among other environments, producing high quality figures. Matplotlib offers a wide range of visualizations such as histograms, bar chart, scatter plots, box plots, or pie charts.\n",
        "\n",
        "- [Plotly Python](https://plot.ly/python/) graphing library provides as Matplotlib a wide range of visualizations. But, unlike Matplotlib the visualizations provided by Plotly are interactive and more intuitive. 😉\n",
        "After this overview about the libraries used in this analysis, we are ready to start the next step: exploratory data analysis and data cleaning.\n",
        "\n",
        "After this overview of the libraries used in this analysis, we ready to load the dataset."
      ]
    },
    {
      "cell_type": "markdown",
      "metadata": {
        "id": "t5wWxAWGS4Gw"
      },
      "source": [
        "# Acquiring the data\n",
        "\n",
        "You don't need to search the Muenchen.de website for the data (sources are at the end of the notebook). \n",
        "\n",
        "We provide a link to the data in the form of a csv file here :\n",
        "https://drive.google.com/open?id=1pHNxZVrlcKh5usWoNC_V7gR2WdeDutjv\n",
        "\n",
        "Click on the link above and **add the 'CS4MS_Data' folder to your personal Google Drive.**\n",
        "\n",
        ">*To add the folder to your personal drive right click on 'CS4MS_Data' and slect 'Add shortcut to Drive' (de: 'Verknüpfung zu Drive hinzufügen') then select 'My Drive'* \n",
        ">\n",
        "> ![](../images/gdrive_shortcut.jpg)\n",
        "> \n",
        "> If you are having issues check the Google Drive Help Center:\n",
        "> \n",
        "> [Shortcuts to Drive](https://support.google.com/drive/answer/9700156?co=GENIE.Platform%3DDesktop&hl=en&oco=0)\n",
        "> \n",
        "> [Verknüpfung zu Drive (deutsch)](https://support.google.com/drive/answer/9700156?co=GENIE.Platform%3DDesktop&hl=de&oco=0)\n",
        "\n",
        "\n",
        "Now if you go to https://drive.google.com and click on 'My Drive' you should see CS4MS_Data fodler on the left. If not please follow the steps above or get in touch with us. You will not be able to complete the exercise without this shortcut."
      ]
    },
    {
      "cell_type": "markdown",
      "metadata": {
        "id": "cl3Ymx_CWK0n"
      },
      "source": [
        "Finally, we need to add the files from your Google Drive to our local Colab runtime environment to be able to access them as if they would be local files.\n",
        "\n",
        ">*When prompted, click on the link to get authentication to allow Google to access your Drive. You should see a screen with “Google Cloud SDK wants to access your Google Account” at the top. After you allow permission, copy the given verification code and paste it in the box in Colab.*"
      ]
    },
    {
      "cell_type": "code",
      "metadata": {
        "id": "C8ajI5eS3kG4"
      },
      "source": [
        "# import a module from google for importing files from Google Drive\n",
        "from google.colab import drive\n",
        "# mounting the remote google drive a local path '/content/drive' so we can use the drive like local files\n",
        "drive.mount('/content/drive/', force_remount=True)"
      ],
      "execution_count": null,
      "outputs": []
    },
    {
      "cell_type": "markdown",
      "metadata": {
        "id": "gZmSypPVDt5N"
      },
      "source": [
        "For a more intuitive approach of working with local files we use the module [pathlib](https://docs.python.org/3/library/pathlib.html) which we will discuss in a later exercise in more detail.\n",
        "\n",
        "Next, we make sure the CS4MS Data folder has been successfully added to your Google Drive and mounted to our local runtime environment."
      ]
    },
    {
      "cell_type": "code",
      "metadata": {
        "id": "rsMvlDLV4BdD"
      },
      "source": [
        "# importing the pathlib module - a handy library for working with the local file system in an object oriented way\n",
        "from pathlib import Path\n",
        "\n",
        "# creating a path object of our data directory within the mounted Google Drive\n",
        "cs4ms_data_path = Path('/content/drive/My Drive/CS4MS_Data')\n",
        "\n",
        "# making sure the folder has been added to Google Drive and mounted successfully\n",
        "assert cs4ms_data_path.is_dir(), 'Error accessing the CS4MS folder on your Google Drive'\n",
        "\n",
        "# print path\n",
        "print('Sucessfully found the path:', cs4ms_data_path)"
      ],
      "execution_count": null,
      "outputs": []
    },
    {
      "cell_type": "markdown",
      "metadata": {
        "id": "_j3-TiDz6iSk"
      },
      "source": [
        "Today we will work in the 'oktoberfest' subdirectory.\n",
        "Let's list the files in there:"
      ]
    },
    {
      "cell_type": "code",
      "metadata": {
        "id": "Mo4xAVUo6hT-"
      },
      "source": [
        "# define the path to the directory\n",
        "oktoberfest_path = cs4ms_data_path / 'oktoberfest'\n",
        "print('Oktoberfest path:', oktoberfest_path)\n",
        "\n",
        "# print all the files and directories in our data path\n",
        "print('\\nFiles in our oktoberfest path:')\n",
        "for file in oktoberfest_path.iterdir():\n",
        "  print(file)"
      ],
      "execution_count": null,
      "outputs": []
    },
    {
      "cell_type": "markdown",
      "metadata": {
        "id": "R6r5sXMB87yy"
      },
      "source": [
        "Great! Two csv files found. \n",
        "\n",
        "CSV stands for comma-separated values. This is a text-based file format that stores tabular data with each line being a row and columns being separated by commas. Just like a minimalistic Excel file without formatic and only values. ([More info on wikipedia](https://en.wikipedia.org/wiki/Comma-separated_values))\n",
        "\n",
        "Let's take the 2019 version and save the path to a variable:\n",
        "\n"
      ]
    },
    {
      "cell_type": "code",
      "metadata": {
        "id": "2xxLWUN5-A8f"
      },
      "source": [
        "# create another pathlib object with the path to the csv file\n",
        "oktoberfest_csv_path = oktoberfest_path / 'oktoberfestgesamt19852019.csv'\n",
        "\n",
        "# make sure this is a file\n",
        "assert oktoberfest_csv_path.is_file(), 'Error oktoberfest csv file not found!'\n",
        "print('Oktoberfest csv file found:', oktoberfest_csv_path.is_file())"
      ],
      "execution_count": null,
      "outputs": []
    },
    {
      "cell_type": "markdown",
      "metadata": {
        "id": "AtEimWqvY4tx"
      },
      "source": [
        "For convenience we load the CSV data into a Pandas data frame using the [pandas.read_csv](https://pandas.pydata.org/pandas-docs/stable/reference/api/pandas.read_csv.html) function and visualize the first 5 rows using the [pandas.DataFrame.head](https://pandas.pydata.org/pandas-docs/stable/reference/api/pandas.DataFrame.head.html) method."
      ]
    },
    {
      "cell_type": "code",
      "metadata": {
        "id": "GTp2mHx0YzmU"
      },
      "source": [
        "import pandas as pd\n",
        "import matplotlib.pyplot as plt\n",
        "# make plots look prettier\n",
        "plt.style.use('ggplot')\n",
        "\n",
        "# Load data into a pandas dataframe\n",
        "df_oktoberfest = pd.read_csv(oktoberfest_csv_path)\n",
        "\n",
        "# Print first 5 rows of the dataframe\n",
        "df_oktoberfest.head(5)"
      ],
      "execution_count": null,
      "outputs": []
    },
    {
      "cell_type": "markdown",
      "metadata": {
        "id": "4KRjkk3dZS5h"
      },
      "source": [
        "The data set contains 8 columns: (1) year, (2) duration, (3) total visitors in million, (4) visitors per day in thousands, (5) price of beer, (6) consumption of beer in hektoliters, (7) price of chicken, (8) consumption of chicken.\n",
        "\n",
        "We can also get the last 5 rows using the [pandas.DataFrame.tail](https://pandas.pydata.org/pandas-docs/stable/reference/api/pandas.DataFrame.tail.html) method."
      ]
    },
    {
      "cell_type": "code",
      "metadata": {
        "id": "GuOgX-VZ3Yqs"
      },
      "source": [
        "# print the last 5 rows of the dataframe\n",
        "df_oktoberfest.tail(5)"
      ],
      "execution_count": null,
      "outputs": []
    },
    {
      "cell_type": "markdown",
      "metadata": {
        "id": "YvtP4d2U3Yqv"
      },
      "source": [
        "Let's get a feeling for the data and print some statistics with the [pandas.DataFrame.describe](https://pandas.pydata.org/pandas-docs/stable/reference/api/pandas.DataFrame.describe.html) method.\n",
        "\n",
        "Of course you could also calculate single statistics like .mean(), .std() etc.."
      ]
    },
    {
      "cell_type": "code",
      "metadata": {
        "id": "SVW70Jks3Yqw"
      },
      "source": [
        "# generate and print descriptive statistics of the dataframe\n",
        "df_oktoberfest.describe()"
      ],
      "execution_count": null,
      "outputs": []
    },
    {
      "cell_type": "markdown",
      "metadata": {
        "id": "cx-OjGK_3Yq0"
      },
      "source": [
        "In python, a dataframe is very similar to a dictionary. To get single columns you can use the column names."
      ]
    },
    {
      "cell_type": "code",
      "metadata": {
        "id": "lXoEV8cF3Yq1"
      },
      "source": [
        "# let's print the column names first\n",
        "print(df_oktoberfest.columns)"
      ],
      "execution_count": null,
      "outputs": []
    },
    {
      "cell_type": "code",
      "metadata": {
        "id": "m7moI3qP3Yq5"
      },
      "source": [
        "# get the column for the beer price via the dictionary syntax:\n",
        "df_oktoberfest['bier_preis']"
      ],
      "execution_count": null,
      "outputs": []
    },
    {
      "cell_type": "code",
      "metadata": {
        "id": "gvB0slR23Yq9"
      },
      "source": [
        "# You can also use a namespace to access the same column instead of the dictionary syntax:\n",
        "df_oktoberfest.bier_preis"
      ],
      "execution_count": null,
      "outputs": []
    },
    {
      "cell_type": "code",
      "metadata": {
        "id": "QSJGShtm3YrA"
      },
      "source": [
        "# Let's calculate the lowest price for one liter of beer recorded .. :-/\n",
        "df_oktoberfest.bier_preis.min()"
      ],
      "execution_count": null,
      "outputs": []
    },
    {
      "cell_type": "markdown",
      "metadata": {
        "id": "xLwbXN1xnVKe"
      },
      "source": [
        "So how do we access a specific row?\n",
        "\n",
        "Let's try the [pandas.DataFrame.iloc](https://pandas.pydata.org/pandas-docs/stable/reference/api/pandas.DataFrame.iloc.html) function to view specific years. This function takes the index of each row as the argument, and outputs the corresponding row."
      ]
    },
    {
      "cell_type": "code",
      "metadata": {
        "id": "OxjUJ-4mqppV"
      },
      "source": [
        "df_oktoberfest.iloc[[0]]"
      ],
      "execution_count": null,
      "outputs": []
    },
    {
      "cell_type": "markdown",
      "metadata": {
        "id": "eUVvEsd4q1_M"
      },
      "source": [
        "You can get multiple rows like this.\n"
      ]
    },
    {
      "cell_type": "code",
      "metadata": {
        "id": "mgS-YOloq7Xo"
      },
      "source": [
        "df_oktoberfest.iloc[[0,1,2]]"
      ],
      "execution_count": null,
      "outputs": []
    },
    {
      "cell_type": "markdown",
      "metadata": {
        "id": "SaVpsCoUrABs"
      },
      "source": [
        "Now, let's try to do some data anlaysis. One of the biggest change in German economy was the conversion from Deutsche Mark to Euro. This was roughly around 1999 to 2000. Let's check the data from that years."
      ]
    },
    {
      "cell_type": "code",
      "metadata": {
        "id": "UKBXlRlXnDLA"
      },
      "source": [
        "df_oktoberfest.iloc[[12,13,14,15,16,17],:]"
      ],
      "execution_count": null,
      "outputs": []
    },
    {
      "cell_type": "markdown",
      "metadata": {
        "id": "7SbycDNZn0id"
      },
      "source": [
        "From 1999 to 2000 there is a sudden increase in the beer and chicken price. This can be attributed to the conversion of Deutsche Mark to Euro as the official currency of Germany."
      ]
    },
    {
      "cell_type": "markdown",
      "metadata": {
        "id": "8jGuWNCws9xt"
      },
      "source": [
        "We set year as the index of the data frame. To easily access the information of different years."
      ]
    },
    {
      "cell_type": "code",
      "metadata": {
        "id": "5QStICAAaD9u"
      },
      "source": [
        "# Set year as the index of the data frame\n",
        "df_oktoberfest.set_index('jahr', inplace=True)\n",
        "\n",
        "\n",
        "# Print first 5 rows of the dataframe\n",
        "df_oktoberfest.head()"
      ],
      "execution_count": null,
      "outputs": []
    },
    {
      "cell_type": "markdown",
      "metadata": {
        "id": "Qoj1o8YVrn7e"
      },
      "source": [
        "# Analysing the Data\n",
        "\n",
        "Exploratory data analysis allow us to get a feeling about the data set and to get the data set ready to easily draw conclusions using it.\n",
        "Let's try to answer some common questions.\n",
        "\n",
        "### How did beer price change over the last 34 years? Is there a tendency?\n",
        "\n",
        "Pandas provides a very convenient method for plotting our data frame: [pandas.DataFrame.plot](https://pandas.pydata.org/pandas-docs/stable/reference/api/pandas.DataFrame.plot.html)"
      ]
    },
    {
      "cell_type": "code",
      "execution_count": null,
      "metadata": {},
      "outputs": [],
      "source": [
        "df_oktoberfest.plot()"
      ]
    },
    {
      "source": [
        "This includes all the columns and is not really useful.\n",
        "\n",
        "Let's specify more argument regarding the columns to include (y) and some formatting ([for more details check the pandas help](https://pandas.pydata.org/pandas-docs/stable/user_guide/visualization.html)):"
      ],
      "cell_type": "markdown",
      "metadata": {}
    },
    {
      "cell_type": "code",
      "metadata": {
        "id": "zTxKuQ4nsd2_"
      },
      "source": [
        "# Plot beer price\n",
        "df_oktoberfest.plot(kind='line', y=['bier_preis'], figsize=(15,8), linewidth=3, fontsize=16)\n",
        "\n",
        "# Title, labels and legend\n",
        "plt.legend(labels=['Beer price'],fontsize=16)\n",
        "plt.xlabel('Year',fontsize=16)\n",
        "plt.ylabel('Price (Euro)',fontsize=16)\n",
        "plt.title('History of prices from 1985 until 2018',fontsize=20)"
      ],
      "execution_count": null,
      "outputs": []
    },
    {
      "cell_type": "markdown",
      "metadata": {
        "id": "66HRwWiQtg9w"
      },
      "source": [
        "As we can see from the plot, the price of beer have increased steadily from 1985 until 2019,\n",
        "Matter of fact, the price in 2019 is around three times more than in 1985."
      ]
    },
    {
      "cell_type": "markdown",
      "metadata": {
        "id": "wETVrPWrt4h_"
      },
      "source": [
        "Try to answer the following question yourself.\n",
        "\n",
        "### How did chicken price change over the last 34 years? "
      ]
    },
    {
      "cell_type": "code",
      "metadata": {
        "id": "Lb9R7SpjRUUW"
      },
      "source": [
        "# Plot chicken price\n",
        "\n",
        "\n",
        "# Title, labels and legend"
      ],
      "execution_count": null,
      "outputs": []
    },
    {
      "cell_type": "code",
      "metadata": {
        "id": "Sdtb1NZIuMVR"
      },
      "source": [
        "# Price of a beer and a chicken in 1985\n",
        "print(df_oktoberfest.loc[1985,['bier_preis','hendl_preis']].sum())\n",
        "\n",
        "\n",
        "# Price of a beer and a chicken in 2018\n",
        "print(df_oktoberfest.loc[2018,['bier_preis','hendl_preis']].sum())\n"
      ],
      "execution_count": null,
      "outputs": []
    },
    {
      "cell_type": "markdown",
      "metadata": {
        "id": "mTFBbW69ull7"
      },
      "source": [
        "So, you can see that a person in 1985 could enjoy a meal at the Oktoberfest for only 7.97 euros. Three decades later, we need almost three times more money (22.97 euros) to enjoy a meal at the festival."
      ]
    },
    {
      "cell_type": "markdown",
      "metadata": {
        "id": "-d4Imd3kvCXF"
      },
      "source": [
        "Here we visualize a interactive plot of the prices"
      ]
    },
    {
      "cell_type": "code",
      "metadata": {
        "id": "mP3RedmxuYC4"
      },
      "source": [
        "import plotly.graph_objects as go\n",
        "\n",
        "# Interactive plots of the price of beer and chicken\n",
        "year = df_oktoberfest.index\n",
        "beer_price = df_oktoberfest.bier_preis\n",
        "chicken_price = df_oktoberfest.hendl_preis\n",
        "\n",
        "fig = go.Figure()\n",
        "\n",
        "fig.add_trace(go.Scatter(x=year, y=chicken_price,\n",
        "                    mode='lines+markers',\n",
        "                    name='Chicken'))\n",
        "\n",
        "fig.add_trace(go.Scatter(x=year, y=beer_price,\n",
        "                    mode='lines+markers',\n",
        "                    name='Beer'))\n",
        "\n",
        "# Title, labels, and background\n",
        "fig.update_layout(title='History of prices from 1985 until 2019',\n",
        "                   xaxis_title='Year',\n",
        "                   yaxis_title='Price (Euro)',\n",
        "                   plot_bgcolor='white')"
      ],
      "execution_count": null,
      "outputs": []
    },
    {
      "cell_type": "markdown",
      "metadata": {
        "id": "m_9EdLMowUwJ"
      },
      "source": [
        "### Beer Consumption\n",
        "\n",
        "Let's take a look at the beer consumption over the years.\n",
        "\n"
      ]
    },
    {
      "cell_type": "code",
      "metadata": {
        "id": "xmVvZ-NPvQXA"
      },
      "source": [
        "# Plot beer consumption \n",
        "df_oktoberfest.plot(y='bier_konsum', figsize=(15,8), linewidth=3, fontsize=16, color='maroon', label='_nolegend_')\n",
        "\n",
        "# Years Landwirtschaftsfest\n",
        "years_landwirtschaftsfest = [1987, 1990, 1993, 1996, 2000, 2004, 2008, 2012, 2016]\n",
        "\n",
        "# Plot vertical line, indicating the celebration of the Landwirtschaftsfest. \n",
        "for year in years_landwirtschaftsfest:\n",
        "    plt.axvline(x=year, color='blue', alpha=0.3)\n",
        "\n",
        "\n",
        "# Annotations - celebration of the landwirtschaftsfest and terrorist attacks  \n",
        "plt.annotate('Vertical lines indicate the celebration of the Landwirtschaftsfest', xy=(2008, 75000), xytext=(1985, 79000), fontsize=15,\n",
        "            arrowprops=dict(facecolor='black', shrink=0.05),bbox = dict(boxstyle=\"round\", fc=\"w\",ec=\"maroon\"),\n",
        "            )\n",
        "plt.annotate('Terrorist attacks 9/11', xy=(2001, df_oktoberfest.loc[2001,'bier_konsum']), xytext=(2004, 52500), fontsize=15,\n",
        "            arrowprops=dict(facecolor='black', shrink=0.05),bbox = dict(boxstyle=\"round\", fc=\"w\",ec=\"maroon\"),\n",
        "            )\n",
        "plt.annotate('Terrorist attacks Paris and Nice', xy=(2016, df_oktoberfest.loc[2016,'bier_konsum']), xytext=(2005, 59000), fontsize=15,\n",
        "            arrowprops=dict(facecolor='black', shrink=0.05),bbox = dict(boxstyle=\"round\", fc=\"w\",ec=\"maroon\"),\n",
        "            )\n",
        "\n",
        "# Title and labels\n",
        "plt.xlabel('Year',fontsize=16)\n",
        "plt.ylabel('Bier consumption (Hectoliters)',fontsize=16)\n",
        "plt.title('Consumption of bier',fontsize=20)"
      ],
      "execution_count": null,
      "outputs": []
    },
    {
      "cell_type": "markdown",
      "metadata": {
        "id": "X_7qbHTTw7A4"
      },
      "source": [
        "As we can observe, the consumption of beer presents a growing trend. The vertical lines indicate the years than the Oktoberfest coincided with the celebration of the Landswirtschaftsfest. This festival is celebrated every four years since 1996 (before every 3) at Theresienwiesen at the same time that Oktoberfest. We can see that small decreases in 2004, 2008, and 2012 could be related to the celebration of this festival.\n",
        "\n",
        "On the contrary, the significant decreases of consumption of beer in 2001 and 2016 could be related to the September 11 terrorist attacks in 2001, the November 2015 Paris terrorist attacks, and the 2016 Nice truck attack. The number of visitors decreased in those years (2001 and 2016), showing the lowest values since 1985.\n"
      ]
    },
    {
      "cell_type": "code",
      "metadata": {
        "id": "F8W3azn4w_Jh"
      },
      "source": [
        "# Lowest number of visitors since 1985 in 2001,2016, and 1988. \n",
        "df_oktoberfest.besucher_gesamt.sort_values().head(3)"
      ],
      "execution_count": null,
      "outputs": []
    },
    {
      "cell_type": "markdown",
      "metadata": {
        "id": "g1xCfUvrxSF0"
      },
      "source": [
        "### Chicken Consumption\n",
        "\n",
        "Now, you try the same for the chicken consumption and see for yourself if we have the same trend as the beer consumption.\n",
        "\n",
        "You would need to do only minor changes to the code of beer consumption."
      ]
    },
    {
      "cell_type": "code",
      "metadata": {
        "id": "ZRtAMYqXxF48"
      },
      "source": [
        "# Plot chicken consumption \n",
        "\n",
        "\n",
        "# Years Landwirtschaftsfest\n",
        "years_landwirtschaftsfest = [1987, 1990, 1993, 1996, 2000, 2004, 2008, 2012, 2016]\n",
        "\n",
        "# Plot vertical line, indicating the celebration of the Landwirtschaftsfest. \n",
        "for year in years_landwirtschaftsfest:\n",
        "    plt.axvline(x=year, color='blue', alpha=0.3)\n",
        "\n",
        "\n",
        "# Annotations - celebration of the landwirtschaftsfest and terrorist attacks  \n",
        "\n",
        "\n",
        "# Title and labels\n",
        "plt.xlabel('Year',fontsize=16)\n",
        "plt.ylabel('Bier consumption (Hectoliters)',fontsize=16)\n",
        "plt.title('Consumption of bier',fontsize=20)"
      ],
      "execution_count": null,
      "outputs": []
    },
    {
      "cell_type": "markdown",
      "metadata": {
        "id": "6jYROpCEx_rQ"
      },
      "source": [
        "### Number of Visitors\n",
        "\n",
        "Finally let's take a look at the total number of visitors from 1985 to 2019."
      ]
    },
    {
      "cell_type": "code",
      "metadata": {
        "id": "RSztNv9e0pPq"
      },
      "source": [
        "# Plot total number of visitors\n",
        "df_oktoberfest.plot(y='besucher_gesamt', figsize=(13,8), marker='o', linewidth=2, fontsize=16, color='darkblue', label='_nolegend_')\n",
        "\n",
        "\n",
        "# Title and labels\n",
        "plt.xlabel('Year',fontsize=16)\n",
        "plt.ylabel('Number of visitors (Milions)',fontsize=16)\n",
        "plt.title('Total number of visitors',fontsize=20)"
      ],
      "execution_count": null,
      "outputs": []
    },
    {
      "cell_type": "markdown",
      "metadata": {
        "id": "wK0j33HS5iGT"
      },
      "source": [
        "We can easily analyze the number of visitors by using the above plot. As we can observe, the number of visitors does not follow any trend, ranging from 5.5 to 7.1. So, the consumption of beer is not increasing because the festival has more visitors, but because the people drink more. \n"
      ]
    },
    {
      "cell_type": "markdown",
      "metadata": {
        "id": "G8MkDA8H1tVr"
      },
      "source": [
        "# References\n",
        "- https://towardsdatascience.com/oktoberfest-quick-analysis-using-pandas-matplotlib-and-plotly-79778367a4c\n",
        "- https://www.opengov-muenchen.de/dataset/oktoberfest\n",
        "- https://pandas.pydata.org/index.html\n",
        "- https://matplotlib.org/\n",
        "- https://plot.ly/python/"
      ]
    }
  ]
}