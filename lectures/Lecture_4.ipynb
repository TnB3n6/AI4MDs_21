{
  "nbformat": 4,
  "nbformat_minor": 0,
  "metadata": {
    "kernelspec": {
      "display_name": "Python 3",
      "language": "python",
      "name": "python3"
    },
    "language_info": {
      "codemirror_mode": {
        "name": "ipython",
        "version": 3
      },
      "file_extension": ".py",
      "mimetype": "text/x-python",
      "name": "python",
      "nbconvert_exporter": "python",
      "pygments_lexer": "ipython3",
      "version": "3.8.3"
    },
    "toc": {
      "base_numbering": 1,
      "nav_menu": {},
      "number_sections": true,
      "sideBar": true,
      "skip_h1_title": false,
      "title_cell": "Table of Contents",
      "title_sidebar": "Contents",
      "toc_cell": false,
      "toc_position": {},
      "toc_section_display": true,
      "toc_window_display": false
    },
    "colab": {
      "name": "Lecture_4_code.ipynb",
      "provenance": [],
      "collapsed_sections": [],
      "toc_visible": true
    }
  },
  "cells": [
    {
      "cell_type": "code",
      "metadata": {
        "id": "pAeEQsUKLyvg"
      },
      "source": [
        "from scipy import ndimage\n",
        "import scipy\n",
        "import numpy as np\n",
        "import matplotlib.image as mpimg\n",
        "from matplotlib import pyplot as plt\n",
        "import matplotlib"
      ],
      "execution_count": null,
      "outputs": []
    },
    {
      "cell_type": "markdown",
      "metadata": {
        "id": "L1HoDPJlLyvm"
      },
      "source": [
        "## Defining and visualizing an image\n",
        "\n",
        "We will use the matplotlib.image library for loading the image from our computer.\n",
        "\n"
      ]
    },
    {
      "cell_type": "code",
      "metadata": {
        "id": "vI5rGhOCLyvr"
      },
      "source": [
        "# Define an image\n",
        "image = [\n",
        "   [0,0,0,1,0,0,0], \n",
        "   [0,0,0,1,0,0,0], \n",
        "   [0,0,0,1,0,0,0], \n",
        "   [0,0,1,1,1,0,0], \n",
        "   [0,0,1,1,1,0,0], \n",
        "   [0,0,1,1,1,0,0], \n",
        "   [0,0,0,0,0,0,0],      \n",
        "]\n",
        "\n",
        "# Display the image\n",
        "plt.figure(figsize=(7,7))\n",
        "plt.imshow(image, cmap='gray', vmin=-3, vmax=3)\n",
        "plt.show()"
      ],
      "execution_count": null,
      "outputs": []
    },
    {
      "cell_type": "code",
      "metadata": {
        "id": "CRNinfBqI_nZ"
      },
      "source": [
        "# Define the filter\n",
        "filter = [\n",
        "  [-1,0,1],   \n",
        "  [-1,0,1],   \n",
        "  [-1,0,1]  \n",
        "]\n",
        "\n",
        "# Display the image\n",
        "plt.figure(figsize=(3,3))\n",
        "plt.imshow(filter, cmap='gray', vmin=-3, vmax=3)\n",
        "plt.show()"
      ],
      "execution_count": null,
      "outputs": []
    },
    {
      "cell_type": "markdown",
      "metadata": {
        "id": "0eQOEZ8WJX85"
      },
      "source": [
        "# Apply convolution"
      ]
    },
    {
      "cell_type": "code",
      "metadata": {
        "id": "grAysUkZJWVF"
      },
      "source": [
        "# apply convolution operation\n",
        "def convolve_img(img, fi):\n",
        "    #filtered = ndimage.correlate(img, fi, mode='constant', cval=0.0)\n",
        "    filtered = ndimage.correlate(img, fi, mode='constant', cval=0.0)\n",
        "    return filtered"
      ],
      "execution_count": null,
      "outputs": []
    },
    {
      "cell_type": "code",
      "metadata": {
        "id": "cv-EYca7Jece"
      },
      "source": [
        "filtered_img = convolve_img(image, filter)\n",
        "# Display the image\n",
        "plt.figure(figsize=(7,7))\n",
        "plt.imshow(filtered_img, cmap='gray', vmin=-3, vmax=3)\n",
        "plt.show()\n"
      ],
      "execution_count": null,
      "outputs": []
    },
    {
      "cell_type": "code",
      "metadata": {
        "id": "n55E4KdsKKzE"
      },
      "source": [
        "print(filtered_img)"
      ],
      "execution_count": null,
      "outputs": []
    },
    {
      "cell_type": "markdown",
      "metadata": {
        "id": "6hlrCMI5fQlx"
      },
      "source": [
        "## Loading an image and convolve it"
      ]
    },
    {
      "cell_type": "code",
      "metadata": {
        "id": "6l6WfSFUfena"
      },
      "source": [
        "!wget https://raw.githubusercontent.com/IFL-CAMP/AI4MDs_21/main/images/drop.jpg"
      ],
      "execution_count": null,
      "outputs": []
    },
    {
      "cell_type": "code",
      "metadata": {
        "id": "nHVsG1cthp3O"
      },
      "source": [
        "# Display the loaded image\n",
        "drop = mpimg.imread(\"drop.jpg\")\n",
        "print(drop.shape)\n",
        "plt.figure(figsize=(10,10))\n",
        "plt.imshow(drop)\n",
        "plt.show()"
      ],
      "execution_count": null,
      "outputs": []
    },
    {
      "cell_type": "code",
      "metadata": {
        "id": "5PqIottth0mm"
      },
      "source": [
        "def rgb2gray(rgb):\n",
        "    return np.dot(rgb[...,:3], [0.2989, 0.5870, 0.1140])\n",
        "\n",
        "gray_drop = rgb2gray(drop)\n",
        "print(gray_drop.shape)\n",
        "plt.figure(figsize=(10,10))\n",
        "plt.imshow(gray_drop, cmap='gray')\n",
        "plt.show()"
      ],
      "execution_count": null,
      "outputs": []
    },
    {
      "cell_type": "code",
      "metadata": {
        "id": "YGpjEahJiOKb"
      },
      "source": [
        "filter = [\n",
        "  [-1,0,1],   \n",
        "  [-1,0,1],   \n",
        "  [-1,0,1]  \n",
        "]\n",
        "\n",
        "\n",
        "filtered_image = convolve_img(gray_drop, filter)\n",
        "# Display the image\n",
        "f, ax = plt.subplots(1,2, figsize=(20,10))\n",
        "ax[0].imshow(gray_drop, cmap='gray')\n",
        "ax[1].imshow(filtered_image, cmap='gray')\n"
      ],
      "execution_count": null,
      "outputs": []
    },
    {
      "cell_type": "markdown",
      "metadata": {
        "id": "bCkA5xF2ltV6"
      },
      "source": [
        "## Quiz"
      ]
    },
    {
      "cell_type": "code",
      "metadata": {
        "id": "m2zct9Q7lr9S"
      },
      "source": [
        "## Quiz\n",
        "\n",
        "filter = [\n",
        "  [1,1,1],   \n",
        "  [1,1,1],   \n",
        "  [1,1,1]  \n",
        "]\n",
        "\n",
        "filter = np.asarray(filter)\n",
        "filter = filter * (1/9)\n",
        "\n",
        "image = [\n",
        "   [0,0,0,1,0,0,0], \n",
        "   [0,0,0,1,0,0,0], \n",
        "   [0,0,0,1,0,0,0], \n",
        "   [0,0,1,1,1,0,0], \n",
        "   [0,0,1,1,1,0,0], \n",
        "   [0,0,1,1,1,0,0], \n",
        "   [0,0,0,0,0,0,0],      \n",
        "]\n",
        "image = np.asarray(image, dtype=float)\n",
        "\n",
        "filtered_image = convolve_img(image, filter)\n",
        "# Display the image\n",
        "f, ax = plt.subplots(1,2, figsize=(20,10))\n",
        "ax[0].imshow(image, cmap='gray', vmin=0, vmax=3)\n",
        "ax[1].imshow(filtered_image, cmap='gray',vmin=0, vmax=3)\n",
        "\n",
        "print(filtered_image)"
      ],
      "execution_count": null,
      "outputs": []
    },
    {
      "cell_type": "code",
      "metadata": {
        "id": "WxXxGAy_nbW4"
      },
      "source": [
        ""
      ],
      "execution_count": null,
      "outputs": []
    }
  ]
}